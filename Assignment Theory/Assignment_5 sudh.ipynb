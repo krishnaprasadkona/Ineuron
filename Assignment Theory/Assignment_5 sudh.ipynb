{
 "cells": [
  {
   "cell_type": "markdown",
   "id": "1c4a1cc3",
   "metadata": {},
   "source": [
    "# Assignment 5"
   ]
  },
  {
   "cell_type": "markdown",
   "id": "54e38422",
   "metadata": {},
   "source": [
    "#### 1. What does an empty dictionary's code look like?"
   ]
  },
  {
   "cell_type": "code",
   "execution_count": 2,
   "id": "1011aa18",
   "metadata": {},
   "outputs": [],
   "source": [
    "d ={}"
   ]
  },
  {
   "cell_type": "code",
   "execution_count": 4,
   "id": "de86743e",
   "metadata": {},
   "outputs": [
    {
     "data": {
      "text/plain": [
       "dict"
      ]
     },
     "execution_count": 4,
     "metadata": {},
     "output_type": "execute_result"
    }
   ],
   "source": [
    "type(d)"
   ]
  },
  {
   "cell_type": "markdown",
   "id": "c1c062ea",
   "metadata": {},
   "source": [
    "#### 2. What is the value of a dictionary value with the key 'foo' and the value 42?"
   ]
  },
  {
   "cell_type": "code",
   "execution_count": 5,
   "id": "eae36ab3",
   "metadata": {},
   "outputs": [],
   "source": [
    "d = {\"foo\":42}"
   ]
  },
  {
   "cell_type": "code",
   "execution_count": 8,
   "id": "e4f3a06d",
   "metadata": {},
   "outputs": [
    {
     "data": {
      "text/plain": [
       "dict_items([('foo', 42)])"
      ]
     },
     "execution_count": 8,
     "metadata": {},
     "output_type": "execute_result"
    }
   ],
   "source": [
    "d.items()"
   ]
  },
  {
   "cell_type": "markdown",
   "id": "4867274f",
   "metadata": {},
   "source": [
    "#### 3. What is the most significant distinction between a dictionary and a list?"
   ]
  },
  {
   "cell_type": "markdown",
   "id": "855ea7e3",
   "metadata": {},
   "source": [
    "ans:\n",
    "\n",
    "there is a crucial difference beteween list and dictionary \n",
    "list is a collection of various index value pairs like that in the list \n",
    "\n",
    "A dictionary refers to a hashed structure of various pairs of keys and values"
   ]
  },
  {
   "cell_type": "markdown",
   "id": "24567105",
   "metadata": {},
   "source": [
    "#### 4. What happens if you try to access spam['foo'] if spam is {'bar': 100}?"
   ]
  },
  {
   "cell_type": "code",
   "execution_count": 9,
   "id": "b531267f",
   "metadata": {},
   "outputs": [],
   "source": [
    "spam = {\"bar\": 100}"
   ]
  },
  {
   "cell_type": "code",
   "execution_count": 10,
   "id": "9a2d0f96",
   "metadata": {},
   "outputs": [
    {
     "ename": "KeyError",
     "evalue": "'foo'",
     "output_type": "error",
     "traceback": [
      "\u001b[1;31m---------------------------------------------------------------------------\u001b[0m",
      "\u001b[1;31mKeyError\u001b[0m                                  Traceback (most recent call last)",
      "Input \u001b[1;32mIn [10]\u001b[0m, in \u001b[0;36m<cell line: 1>\u001b[1;34m()\u001b[0m\n\u001b[1;32m----> 1\u001b[0m \u001b[43mspam\u001b[49m\u001b[43m \u001b[49m\u001b[43m[\u001b[49m\u001b[38;5;124;43m'\u001b[39;49m\u001b[38;5;124;43mfoo\u001b[39;49m\u001b[38;5;124;43m'\u001b[39;49m\u001b[43m]\u001b[49m\n",
      "\u001b[1;31mKeyError\u001b[0m: 'foo'"
     ]
    }
   ],
   "source": [
    "spam ['foo'] # here we are facing a  key error "
   ]
  },
  {
   "cell_type": "markdown",
   "id": "a5a0d3f2",
   "metadata": {},
   "source": [
    "#### 5. If a dictionary is stored in spam, what is the difference between the expressions 'cat' in spam and 'cat' in spam.keys()?"
   ]
  },
  {
   "cell_type": "code",
   "execution_count": 1,
   "id": "31a37ad4",
   "metadata": {},
   "outputs": [],
   "source": [
    "spam ={\"cat\":\"cat\"}"
   ]
  },
  {
   "cell_type": "code",
   "execution_count": 2,
   "id": "5f16342a",
   "metadata": {},
   "outputs": [
    {
     "data": {
      "text/plain": [
       "dict_keys(['cat'])"
      ]
     },
     "execution_count": 2,
     "metadata": {},
     "output_type": "execute_result"
    }
   ],
   "source": [
    "spam.keys()"
   ]
  },
  {
   "cell_type": "code",
   "execution_count": 8,
   "id": "5c6a11b2",
   "metadata": {},
   "outputs": [
    {
     "name": "stdout",
     "output_type": "stream",
     "text": [
      "True False\n"
     ]
    }
   ],
   "source": [
    "# 6. If a dictionary is stored in spam,\n",
    "# what is the difference between the expressions 'cat' in spam and 'cat' in spam.values()?\n",
    "\n",
    "# Difference:\n",
    "# 'cat' in spam: This expression checks whether there is a 'cat' KEY in the dictionary\n",
    "# 'cat' in spam.values(): This will checks whether there is a value 'cat' in spam.\n",
    "\n",
    "spam = {'cat': \"abc\", 'k2': 542}\n",
    "a = 'cat' in spam\n",
    "b = 'cat' in spam.values()\n",
    "print(a, b)"
   ]
  },
  {
   "cell_type": "code",
   "execution_count": null,
   "id": "453591da",
   "metadata": {},
   "outputs": [],
   "source": [
    "# 7. What is a shortcut for the following code?\n",
    "# if 'color' not in spam:        .\n",
    "# spam['color'] = 'black'"
   ]
  },
  {
   "cell_type": "code",
   "execution_count": 10,
   "id": "33f0357f",
   "metadata": {},
   "outputs": [
    {
     "data": {
      "text/plain": [
       "{'cat': 'abc', 'k2': 542}"
      ]
     },
     "execution_count": 10,
     "metadata": {},
     "output_type": "execute_result"
    }
   ],
   "source": [
    "spam"
   ]
  },
  {
   "cell_type": "markdown",
   "id": "7bbbb75c",
   "metadata": {},
   "source": [
    "#### shortcut code"
   ]
  },
  {
   "cell_type": "code",
   "execution_count": 11,
   "id": "ce176e71",
   "metadata": {},
   "outputs": [
    {
     "data": {
      "text/plain": [
       "'black'"
      ]
     },
     "execution_count": 11,
     "metadata": {},
     "output_type": "execute_result"
    }
   ],
   "source": [
    "spam.setdefault(\"color\",\"black\")"
   ]
  },
  {
   "cell_type": "code",
   "execution_count": 12,
   "id": "03e39932",
   "metadata": {},
   "outputs": [
    {
     "data": {
      "text/plain": [
       "{'cat': 'abc', 'k2': 542, 'color': 'black'}"
      ]
     },
     "execution_count": 12,
     "metadata": {},
     "output_type": "execute_result"
    }
   ],
   "source": [
    "spam"
   ]
  },
  {
   "cell_type": "markdown",
   "id": "50598a8f",
   "metadata": {},
   "source": [
    "#### 8. How do you \"pretty print\" dictionary values using which module and function?"
   ]
  },
  {
   "cell_type": "code",
   "execution_count": 16,
   "id": "f73bbdcd",
   "metadata": {},
   "outputs": [
    {
     "name": "stdout",
     "output_type": "stream",
     "text": [
      "{'cat': 'abc', 'color': 'black', 'k2': 542}\n"
     ]
    }
   ],
   "source": [
    "# we use pprint module for \"pretty print\" \n",
    "\n",
    "import pprint\n",
    "pprint.pprint(spam)"
   ]
  },
  {
   "cell_type": "code",
   "execution_count": null,
   "id": "06f88169",
   "metadata": {},
   "outputs": [],
   "source": []
  }
 ],
 "metadata": {
  "kernelspec": {
   "display_name": "Python 3 (ipykernel)",
   "language": "python",
   "name": "python3"
  },
  "language_info": {
   "codemirror_mode": {
    "name": "ipython",
    "version": 3
   },
   "file_extension": ".py",
   "mimetype": "text/x-python",
   "name": "python",
   "nbconvert_exporter": "python",
   "pygments_lexer": "ipython3",
   "version": "3.9.13"
  }
 },
 "nbformat": 4,
 "nbformat_minor": 5
}
