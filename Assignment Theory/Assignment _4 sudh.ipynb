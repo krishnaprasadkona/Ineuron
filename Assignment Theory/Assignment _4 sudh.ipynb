{
 "cells": [
  {
   "cell_type": "markdown",
   "id": "5d731e30",
   "metadata": {},
   "source": [
    "# Assignment 4"
   ]
  },
  {
   "cell_type": "markdown",
   "id": "bbbdf46c",
   "metadata": {},
   "source": [
    "#### 1. What exactly is []?"
   ]
  },
  {
   "cell_type": "markdown",
   "id": "ef7b0fc3",
   "metadata": {},
   "source": [
    "ans:\n",
    "\n",
    "it is the index brackets and index brackets also used to write the\n",
    "expression in python index brackets with some data called as list."
   ]
  },
  {
   "cell_type": "markdown",
   "id": "01a23707",
   "metadata": {},
   "source": [
    "#### 2. In a list of values stored in a variable called spam, how would you assign the value 'hello' as the third value?  (Assume [2, 4, 6, 8, 10] are in spam.)"
   ]
  },
  {
   "cell_type": "code",
   "execution_count": 5,
   "id": "88c95b7a",
   "metadata": {},
   "outputs": [
    {
     "data": {
      "text/plain": [
       "[2, 4]"
      ]
     },
     "execution_count": 5,
     "metadata": {},
     "output_type": "execute_result"
    }
   ],
   "source": [
    "spam[:2]"
   ]
  },
  {
   "cell_type": "code",
   "execution_count": 1,
   "id": "85cdc5af",
   "metadata": {},
   "outputs": [
    {
     "name": "stdout",
     "output_type": "stream",
     "text": [
      "[2, 4, 6, 8, 10]\n",
      "[2, 4, 'hello', 8, 10]\n"
     ]
    }
   ],
   "source": [
    "spam = [2, 4, 6, 8, 10]\n",
    "print(spam)\n",
    "spam[2] = 'hello'\n",
    "print(spam)"
   ]
  },
  {
   "cell_type": "markdown",
   "id": "f9d38926",
   "metadata": {},
   "source": [
    "#### 3. What is the value of spam[int(int('3' * 2) / 11)]?"
   ]
  },
  {
   "cell_type": "markdown",
   "id": "cca57bb6",
   "metadata": {},
   "source": [
    " '3'**2 will give '33' \n",
    " \n",
    " int('33') will be 33\n",
    " \n",
    " 33/11 will be 3.0\n",
    " \n",
    " int(3.0) will give 3\n",
    " \n",
    " spam[3] will be value at index 3 that is 'd'"
   ]
  },
  {
   "cell_type": "code",
   "execution_count": 6,
   "id": "e7740d07",
   "metadata": {},
   "outputs": [
    {
     "data": {
      "text/plain": [
       "8"
      ]
     },
     "execution_count": 6,
     "metadata": {},
     "output_type": "execute_result"
    }
   ],
   "source": [
    "spam[int(int('3'*2)/11)]"
   ]
  },
  {
   "cell_type": "markdown",
   "id": "b0d4c165",
   "metadata": {},
   "source": [
    "#### 4. What is the value of spam[-1]? the value of spam of -1 is (10)  the value of spam of :2 is (2,4)"
   ]
  },
  {
   "cell_type": "code",
   "execution_count": 26,
   "id": "2474802d",
   "metadata": {},
   "outputs": [
    {
     "data": {
      "text/plain": [
       "1"
      ]
     },
     "execution_count": 26,
     "metadata": {},
     "output_type": "execute_result"
    }
   ],
   "source": [
    "# Let's pretend bacon has the list \n",
    "bacon = [3.14, 'cat', 11, 'cat', True]\n",
    "# for the next three questions.\n",
    "# 6. What is the value of bacon.index('cat')?\n",
    " \n",
    "bacon.index('cat') "
   ]
  },
  {
   "cell_type": "markdown",
   "id": "f37be644",
   "metadata": {},
   "source": [
    "here it will consider only first one and stop"
   ]
  },
  {
   "cell_type": "markdown",
   "id": "cee62a63",
   "metadata": {},
   "source": [
    "#### 5. What is the value of spam[:2]?"
   ]
  },
  {
   "cell_type": "code",
   "execution_count": 7,
   "id": "c3d10264",
   "metadata": {},
   "outputs": [],
   "source": [
    "spam[:2] = 'a' and 'b'"
   ]
  },
  {
   "cell_type": "markdown",
   "id": "10d318ba",
   "metadata": {},
   "source": [
    "#### Let's pretend bacon has the list [3.14, 'cat,' 11, 'cat,' True]  for the next three questions."
   ]
  },
  {
   "cell_type": "code",
   "execution_count": 8,
   "id": "ebdbcdbc",
   "metadata": {},
   "outputs": [],
   "source": [
    "bacon = [3.14, 'cat', 11, 'cat', True]"
   ]
  },
  {
   "cell_type": "markdown",
   "id": "c49da6af",
   "metadata": {},
   "source": [
    "#### 6. What is the value of bacon.index('cat')?"
   ]
  },
  {
   "cell_type": "markdown",
   "id": "9a7a8dfe",
   "metadata": {},
   "source": [
    "ans: \n",
    "\n",
    "It will output the index of first occurence of 'cat' value\n",
    "ans: 1"
   ]
  },
  {
   "cell_type": "markdown",
   "id": "fba830ae",
   "metadata": {},
   "source": [
    "#### 7. How does bacon.append(99) change the look of the list value in bacon?"
   ]
  },
  {
   "cell_type": "code",
   "execution_count": 4,
   "id": "19301fdf",
   "metadata": {},
   "outputs": [],
   "source": [
    "bacon.append(99)"
   ]
  },
  {
   "cell_type": "code",
   "execution_count": 39,
   "id": "5629f599",
   "metadata": {},
   "outputs": [
    {
     "data": {
      "text/plain": [
       "[3.14, 'cat', 11, 'cat', True, 99]"
      ]
     },
     "execution_count": 39,
     "metadata": {},
     "output_type": "execute_result"
    }
   ],
   "source": [
    "bacon"
   ]
  },
  {
   "cell_type": "markdown",
   "id": "c38f1814",
   "metadata": {},
   "source": [
    "#### 8. How does bacon.remove('cat') change the look of the list in bacon?"
   ]
  },
  {
   "cell_type": "code",
   "execution_count": 9,
   "id": "ca4a8bde",
   "metadata": {},
   "outputs": [],
   "source": [
    "bacon.remove(\"cat\")"
   ]
  },
  {
   "cell_type": "code",
   "execution_count": 10,
   "id": "0c0a4764",
   "metadata": {},
   "outputs": [
    {
     "data": {
      "text/plain": [
       "[3.14, 11, 'cat', True]"
      ]
     },
     "execution_count": 10,
     "metadata": {},
     "output_type": "execute_result"
    }
   ],
   "source": [
    "bacon"
   ]
  },
  {
   "cell_type": "markdown",
   "id": "db991fc4",
   "metadata": {},
   "source": [
    "#### 9. What are the list concatenation and list replication operators?"
   ]
  },
  {
   "cell_type": "markdown",
   "id": "f5972cb1",
   "metadata": {},
   "source": [
    "ans:\n",
    "\n",
    "for the list concatenation is + and the while replication is * these \n",
    "are the operators in list concatenation"
   ]
  },
  {
   "cell_type": "markdown",
   "id": "a336e3f1",
   "metadata": {},
   "source": [
    "#### 10. What is difference between the list methods append() and insert()?"
   ]
  },
  {
   "cell_type": "markdown",
   "id": "e459d62a",
   "metadata": {},
   "source": [
    "ans:\n",
    "\n",
    "the differecne list methods of append and insert \n",
    "when we add any data in list these keywords will help\n",
    "\n",
    "the append will allows to add the data in it but in last of list [-1]\n",
    "\n",
    "the insert will allows to add the data in the middle of list where we\n",
    "need exactly"
   ]
  },
  {
   "cell_type": "markdown",
   "id": "80df930b",
   "metadata": {},
   "source": [
    "#### 11. What are the two methods for removing items from a list?"
   ]
  },
  {
   "cell_type": "markdown",
   "id": "a54c9aad",
   "metadata": {},
   "source": [
    "ans:\n",
    "\n",
    "the two methods to remove the items in the list pop and remove "
   ]
  },
  {
   "cell_type": "markdown",
   "id": "294d4b0e",
   "metadata": {},
   "source": [
    "#### 12. Describe how list values and string values are identical."
   ]
  },
  {
   "cell_type": "markdown",
   "id": "f66698bc",
   "metadata": {},
   "source": [
    "ans:\n",
    "    \n",
    "list is enclosd with [] square bracketes these  and the string values \n",
    "are enclosed with  inverted comas ex \"krishna \""
   ]
  },
  {
   "cell_type": "markdown",
   "id": "608d93ce",
   "metadata": {},
   "source": [
    "#### 13. What's the difference between tuples and lists?"
   ]
  },
  {
   "cell_type": "markdown",
   "id": "fb1ba6d1",
   "metadata": {},
   "source": [
    "ans:\n",
    "\n",
    "tuple are immutable in nature \n",
    "\n",
    "tuples are enclosed with () brackets\n",
    "\n",
    "and list is mutable \n",
    "\n",
    "it is enclosed with [] square brackets"
   ]
  },
  {
   "cell_type": "markdown",
   "id": "65b17766",
   "metadata": {},
   "source": [
    "#### 14. How do you type a tuple value that only contains the integer 42?"
   ]
  },
  {
   "cell_type": "code",
   "execution_count": 16,
   "id": "8a25d18c",
   "metadata": {},
   "outputs": [],
   "source": [
    "t = tuple([42])"
   ]
  },
  {
   "cell_type": "code",
   "execution_count": 17,
   "id": "7dd0ed68",
   "metadata": {},
   "outputs": [
    {
     "data": {
      "text/plain": [
       "tuple"
      ]
     },
     "execution_count": 17,
     "metadata": {},
     "output_type": "execute_result"
    }
   ],
   "source": [
    "type(t)"
   ]
  },
  {
   "cell_type": "code",
   "execution_count": 19,
   "id": "b6ee0a31",
   "metadata": {},
   "outputs": [
    {
     "name": "stdout",
     "output_type": "stream",
     "text": [
      "(42,)\n"
     ]
    }
   ],
   "source": [
    "print(t)"
   ]
  },
  {
   "cell_type": "markdown",
   "id": "8b92a765",
   "metadata": {},
   "source": [
    "#### 15. How do you get a list value's tuple form? How do you get a tuple value's list form?"
   ]
  },
  {
   "cell_type": "code",
   "execution_count": 20,
   "id": "d3c5df27",
   "metadata": {},
   "outputs": [],
   "source": [
    "l = [1,2,3,4,5,6,7,2+3j,3.5,\"krish\"]"
   ]
  },
  {
   "cell_type": "code",
   "execution_count": 21,
   "id": "4cee0e94",
   "metadata": {},
   "outputs": [
    {
     "name": "stdout",
     "output_type": "stream",
     "text": [
      "(1, 2, 3, 4, 5, 6, 7, (2+3j), 3.5, 'krish')\n"
     ]
    }
   ],
   "source": [
    "print(tuple(l))"
   ]
  },
  {
   "cell_type": "code",
   "execution_count": 22,
   "id": "e49a0ed5",
   "metadata": {},
   "outputs": [],
   "source": [
    "t = (1,2,3,4,5,6,7,2+3j,3.5,\"krish\")"
   ]
  },
  {
   "cell_type": "code",
   "execution_count": 23,
   "id": "d8bc9254",
   "metadata": {},
   "outputs": [
    {
     "name": "stdout",
     "output_type": "stream",
     "text": [
      "[1, 2, 3, 4, 5, 6, 7, (2+3j), 3.5, 'krish']\n"
     ]
    }
   ],
   "source": [
    "print(list(t))   "
   ]
  },
  {
   "cell_type": "markdown",
   "id": "c021e283",
   "metadata": {},
   "source": [
    "#### 16. Variables that \"contain\" list values are not necessarily lists  themselves. Instead, what do they contain?"
   ]
  },
  {
   "cell_type": "markdown",
   "id": "ede81e8b",
   "metadata": {},
   "source": [
    "ans:\n",
    "\n",
    "var contain the reference of the list "
   ]
  },
  {
   "cell_type": "markdown",
   "id": "48fd3f47",
   "metadata": {},
   "source": [
    "#### 17. How do you distinguish between copy.copy() and copy.deepcopy()?"
   ]
  },
  {
   "cell_type": "markdown",
   "id": "34f2628a",
   "metadata": {},
   "source": [
    "ans:\n",
    "\n",
    "the difference between copy.copy() and copy.deepcopy()\n",
    "\n",
    "copy creates a reference to original object . if we change the copied \n",
    "object it wil change the original object\n",
    "\n",
    "deepcopy() creates new object and does real copying of original object to \n",
    "new one \n",
    "by changing the new deepcopied object doset affect orignal object"
   ]
  },
  {
   "cell_type": "code",
   "execution_count": null,
   "id": "edb0fd16",
   "metadata": {},
   "outputs": [],
   "source": []
  }
 ],
 "metadata": {
  "kernelspec": {
   "display_name": "Python 3 (ipykernel)",
   "language": "python",
   "name": "python3"
  },
  "language_info": {
   "codemirror_mode": {
    "name": "ipython",
    "version": 3
   },
   "file_extension": ".py",
   "mimetype": "text/x-python",
   "name": "python",
   "nbconvert_exporter": "python",
   "pygments_lexer": "ipython3",
   "version": "3.9.13"
  }
 },
 "nbformat": 4,
 "nbformat_minor": 5
}
