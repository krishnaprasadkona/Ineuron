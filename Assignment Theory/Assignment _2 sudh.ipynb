{
 "cells": [
  {
   "cell_type": "code",
   "execution_count": null,
   "id": "ec62ac5a",
   "metadata": {},
   "outputs": [],
   "source": [
    "1.What are the two values of the Boolean data type? How do you write them?\n",
    "\n",
    "there are two types of boolean values True and False\n",
    "\n",
    "the expression 1 <= 2 is True , while the expression 0 == 1 is False"
   ]
  },
  {
   "cell_type": "code",
   "execution_count": null,
   "id": "edd09ef5",
   "metadata": {},
   "outputs": [],
   "source": [
    "2. What are the three different types of Boolean operators?\n",
    "\n",
    "There are three three different types of boolean operators are there\n",
    "they are:\n",
    "AND\n",
    "OR\n",
    "NOT"
   ]
  },
  {
   "cell_type": "code",
   "execution_count": 1,
   "id": "fc1cd3d0",
   "metadata": {},
   "outputs": [
    {
     "data": {
      "text/plain": [
       "True"
      ]
     },
     "execution_count": 1,
     "metadata": {},
     "output_type": "execute_result"
    }
   ],
   "source": [
    "4. What are the values of the following expressions?\n",
    "(5 > 4) and (3 == 5)\n",
    "not (5 > 4)\n",
    "(5 > 4) or (3 == 5)\n",
    "not ((5 > 4) or (3 == 5))\n",
    "(True and True) and (True == False)\n",
    "(not False) or (not True)\n",
    "\n",
    "\n",
    "python supports three types of values integer float complex\n",
    "\n",
    "in the above code the values are integers"
   ]
  },
  {
   "cell_type": "code",
   "execution_count": null,
   "id": "9030bf1c",
   "metadata": {},
   "outputs": [],
   "source": [
    "5. What are the six comparison operators?\n",
    "\n",
    "Python has six comparison operators: less than ( < ), less than or equal to\n",
    "( <= ), greater than ( > ), greater than or equal to ( >= ), equal to ( == ), and not equal to ( != )."
   ]
  },
  {
   "cell_type": "code",
   "execution_count": null,
   "id": "d85d9ac3",
   "metadata": {},
   "outputs": [],
   "source": [
    "6. How do you tell the difference between the equal to and assignment operators?\n",
    "Describe a condition and when you would use one.\n",
    "\n",
    "the difference between = (Assignment) and == (Equal to) operators.\n",
    "The “=” is an assignment operator is used to assign the value on the right to the variable on the left.\n",
    "The '==' operator checks whether the two given operands are equal or not. If so, it returns true."
   ]
  },
  {
   "cell_type": "code",
   "execution_count": null,
   "id": "195803f8",
   "metadata": {},
   "outputs": [],
   "source": [
    "7. Identify the three blocks in this code:\n",
    "spam = 0\n",
    "if spam == 10:\n",
    "print('eggs')\n",
    "if spam > 5:\n",
    "print('bacon')\n",
    "else:\n",
    "print('ham')\n",
    "print('spam')\n",
    "print('spam')\n",
    "\n",
    "\n",
    "here the blocks are :\n",
    "   \n",
    "\n",
    "    if spam == 10:\n",
    "        if spam > 5: \n",
    "            else:\n",
    "                print('ham')\n",
    "                print('spam')\n",
    "                print('spam') is a block of code"
   ]
  },
  {
   "cell_type": "code",
   "execution_count": null,
   "id": "a4d4a8ad",
   "metadata": {},
   "outputs": [],
   "source": [
    "8. Write code that prints Hello if 1 is stored in spam, prints Howdy if 2 is stored in spam, \n",
    "   and prints Greetings! if anything else is stored in spam.\n"
   ]
  },
  {
   "cell_type": "code",
   "execution_count": 5,
   "id": "c3b406e8",
   "metadata": {},
   "outputs": [
    {
     "name": "stdout",
     "output_type": "stream",
     "text": [
      "please enter your numbermy name is krishna\n",
      "Greetings!\n"
     ]
    }
   ],
   "source": [
    "spam =input(\"please enter your value : \")\n",
    "\n",
    "if spam == '1':\n",
    "    print('Hello')\n",
    "elif spam == '2':\n",
    "    print('Howdy')\n",
    "else:\n",
    "    print('Greetings!')"
   ]
  },
  {
   "cell_type": "code",
   "execution_count": 4,
   "id": "bf0d9cb6",
   "metadata": {},
   "outputs": [
    {
     "name": "stdout",
     "output_type": "stream",
     "text": [
      "please enter your number1\n",
      "Hello\n"
     ]
    }
   ],
   "source": [
    "spam = int(input(\"please enter your vlaue : \"))\n",
    "\n",
    "if spam == 1:\n",
    "    print('Hello')\n",
    "elif spam == 2:\n",
    "    print('Howdy')\n",
    "else:\n",
    "    print('Greetings!')"
   ]
  },
  {
   "cell_type": "code",
   "execution_count": null,
   "id": "881c1d3a",
   "metadata": {},
   "outputs": [],
   "source": []
  }
 ],
 "metadata": {
  "kernelspec": {
   "display_name": "Python 3 (ipykernel)",
   "language": "python",
   "name": "python3"
  },
  "language_info": {
   "codemirror_mode": {
    "name": "ipython",
    "version": 3
   },
   "file_extension": ".py",
   "mimetype": "text/x-python",
   "name": "python",
   "nbconvert_exporter": "python",
   "pygments_lexer": "ipython3",
   "version": "3.9.12"
  }
 },
 "nbformat": 4,
 "nbformat_minor": 5
}
