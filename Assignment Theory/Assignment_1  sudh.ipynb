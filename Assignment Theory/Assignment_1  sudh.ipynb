{
 "cells": [
  {
   "cell_type": "code",
   "execution_count": null,
   "id": "679676ef",
   "metadata": {},
   "outputs": [],
   "source": [
    "# 1. In the below elements which of them are values or an expression? \n",
    "# eg:- values can be integer or string and expressions will be mathematical operators.\n",
    "\"\"\"\n",
    "\n",
    "values  \n",
    "-87.8, 6, 'hello'\n",
    "\n",
    "expressions\n",
    "*, -, /, +  \n",
    "\n",
    "\"\"\"\n"
   ]
  },
  {
   "cell_type": "code",
   "execution_count": null,
   "id": "98418f66",
   "metadata": {},
   "outputs": [],
   "source": [
    "# 2. What is the difference between string and variable?\n",
    "string                                   variable \n",
    "1.string is nothing but               1. it stores a\n",
    "it a words enclosed with \"\"              information in  a memory \n"
   ]
  },
  {
   "cell_type": "code",
   "execution_count": null,
   "id": "7c038e78",
   "metadata": {},
   "outputs": [],
   "source": [
    "#3.Describe three different data types. \n",
    "data types are is defined as  primitive and non primitive \n",
    "in primitive:  numeric values like integer float boolean these all are comes under primitive \n",
    "and non primitive data types are string array etc \n",
    "\n",
    "    here float means: the number which is in decimal vlaues are called as string\n",
    "    boolean means: it will define weather condition is true or not \n",
    "    integer means:  it is a number "
   ]
  },
  {
   "cell_type": "code",
   "execution_count": null,
   "id": "bf56b778",
   "metadata": {},
   "outputs": [],
   "source": [
    " # 4. What is an expression made up of? What do all expressions do?\n",
    "    an expression is made up of variabls and operators \n",
    "    expression means a group of operators are represntations of value \n",
    "    ex : (4+3) = 7 4+3 is a expression and the 7 is constant term \n",
    "        "
   ]
  },
  {
   "cell_type": "code",
   "execution_count": null,
   "id": "421a3806",
   "metadata": {},
   "outputs": [],
   "source": [
    "# 5. This assignment statements, like spam = 10. What is the difference between an expression and a statement?\n",
    "statement represents a command or action \n",
    "expressions is a comnination of variables and operators"
   ]
  },
  {
   "cell_type": "code",
   "execution_count": null,
   "id": "eb89317c",
   "metadata": {},
   "outputs": [],
   "source": [
    "#6 . After running the following code, what does the variable bacon contain?\n",
    "bacon = 22\n",
    "bacon + 1\n",
    "bacon is equal to 22 it contains a value of 22 now the ans is 23 "
   ]
  },
  {
   "cell_type": "code",
   "execution_count": null,
   "id": "cfb74d00",
   "metadata": {},
   "outputs": [],
   "source": [
    "# 7. What should the values of the following two terms be?\n",
    "'spam' + 'spamspam'\n",
    "'spam' * 3\n",
    "both values are going to be same \n",
    "in first condition it will add the 'spamspamspam'\n",
    "in second condition it is going to be a multiplication the ans would be 'spamspamspam'"
   ]
  },
  {
   "cell_type": "code",
   "execution_count": null,
   "id": "98f6d3fb",
   "metadata": {},
   "outputs": [],
   "source": [
    "#8. Why is eggs a valid variable name while 100 is invalid? \n",
    "no variable should start with numbers or under score it is a rule in python"
   ]
  },
  {
   "cell_type": "code",
   "execution_count": null,
   "id": "68c37992",
   "metadata": {},
   "outputs": [],
   "source": [
    "# 9. What three functions can be used to get the integer, floating-point number, or string version of a value?\n",
    " the three different functions are \n",
    "    for integer we use a function as int\n",
    "    for float point number we use a function as float\n",
    "    for string we use a function as str"
   ]
  },
  {
   "cell_type": "code",
   "execution_count": 7,
   "id": "610776d7",
   "metadata": {},
   "outputs": [
    {
     "name": "stdout",
     "output_type": "stream",
     "text": [
      "I have eaten  + 99 +  burritos\n"
     ]
    }
   ],
   "source": [
    "# 10. Why does this expression cause an error? How can you fix it?\n",
    "'I have eaten ' + 99 + ' burritos.\n",
    "\n",
    "l ='I have eaten  + 99 +  burritos'\n",
    "print(l)"
   ]
  },
  {
   "cell_type": "code",
   "execution_count": null,
   "id": "4d308623",
   "metadata": {},
   "outputs": [],
   "source": []
  }
 ],
 "metadata": {
  "kernelspec": {
   "display_name": "Python 3.9.12 ('base')",
   "language": "python",
   "name": "python3"
  },
  "language_info": {
   "codemirror_mode": {
    "name": "ipython",
    "version": 3
   },
   "file_extension": ".py",
   "mimetype": "text/x-python",
   "name": "python",
   "nbconvert_exporter": "python",
   "pygments_lexer": "ipython3",
   "version": "3.9.12"
  },
  "vscode": {
   "interpreter": {
    "hash": "263930470851f494f0ed2879c35b57985588df20f9e529b86e97dd5eb9ddc466"
   }
  }
 },
 "nbformat": 4,
 "nbformat_minor": 5
}
