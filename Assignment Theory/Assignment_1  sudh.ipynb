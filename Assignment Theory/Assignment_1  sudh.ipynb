{
 "cells": [
  {
   "cell_type": "markdown",
   "id": "a4186452",
   "metadata": {},
   "source": [
    "# Assignment 1"
   ]
  },
  {
   "cell_type": "markdown",
   "id": "f66f0759",
   "metadata": {},
   "source": [
    "#### 1. In the below elements which of them are values or an expression?  eg:- values can be integer or string and expressions will be mathematical operators."
   ]
  },
  {
   "cell_type": "markdown",
   "id": "05a7e9af",
   "metadata": {},
   "source": [
    "*       : Expression (mathematical operator)\n",
    "\n",
    "'hello' : string(value)\n",
    "\n",
    "-87.8   : float(value)\n",
    "\n",
    "-       : Expression  (mathematical operator)\n",
    "\n",
    "/       : Expression  (mathematical operator)\n",
    "\n",
    "+       : Expression  (mathematical operator)\n",
    "\n",
    "6       : integer (value)"
   ]
  },
  {
   "cell_type": "markdown",
   "id": "8c8d22b6",
   "metadata": {},
   "source": [
    "#### 2. What is the difference between string and variable? "
   ]
  },
  {
   "cell_type": "markdown",
   "id": "fcd427c0",
   "metadata": {},
   "source": [
    "string                                   \n",
    "1.string is nothing but               \n",
    "it a words enclosed with \"\"   \n",
    "\n",
    "\n",
    "variable \n",
    "it stores a information (ex : a = data) "
   ]
  },
  {
   "cell_type": "markdown",
   "id": "222ec9c3",
   "metadata": {},
   "source": [
    "#### 3.Describe three different data types.  "
   ]
  },
  {
   "cell_type": "markdown",
   "id": "93483dd3",
   "metadata": {},
   "source": [
    "ans:\n",
    "\n",
    "data types are is defined as  primitive and non primitive \n",
    "in primitive:  numeric values like integer float boolean these all are comes under primitive \n",
    "and non primitive data types are string array etc \n",
    "\n",
    "here float means: the number which is in decimal vlaues are called as string\n",
    "boolean means: it will define weather condition is true or not \n",
    "integer means:  it is a number"
   ]
  },
  {
   "cell_type": "markdown",
   "id": "9652d2f4",
   "metadata": {},
   "source": [
    "#### 4. What is an expression made up of? What do all expressions do?   "
   ]
  },
  {
   "cell_type": "markdown",
   "id": "a2087e06",
   "metadata": {},
   "source": [
    "an expression is made up of variabls and operators \n",
    "expression means a group of operators are represntations of value \n",
    "ex : (4+3) = 7 4+3 is a expression and the 7 is constant term "
   ]
  },
  {
   "cell_type": "markdown",
   "id": "e14d64f4",
   "metadata": {},
   "source": [
    "#### 5. This assignment statements, like spam = 10. What is the difference between an expression and a statement?"
   ]
  },
  {
   "cell_type": "markdown",
   "id": "667b73ee",
   "metadata": {},
   "source": [
    "ans:\n",
    "\n",
    "statement represents a command or action \n",
    "expressions is a comnination of variables and operators"
   ]
  },
  {
   "cell_type": "markdown",
   "id": "6cc354b3",
   "metadata": {},
   "source": [
    "#### 6 . After running the following code, what does the variable bacon contain?"
   ]
  },
  {
   "cell_type": "markdown",
   "id": "3a8a8868",
   "metadata": {},
   "source": [
    "ans:\n",
    "\n",
    "bacon = 22\n",
    "bacon + 1\n",
    "bacon is equal to 22 it contains a value of 22 now the ans is 23 "
   ]
  },
  {
   "cell_type": "markdown",
   "id": "3a8770ab",
   "metadata": {},
   "source": [
    "#### 7. What should the values of the following two terms be?\n"
   ]
  },
  {
   "cell_type": "markdown",
   "id": "6d9d50ba",
   "metadata": {},
   "source": [
    "ans:\n",
    "\n",
    "'spam' + 'spamspam'\n",
    "'spam' * 3\n",
    "both values are going to be same \n",
    "in first condition it will add the 'spamspamspam'\n",
    "in second condition it is going to be a multiplication the ans would be 'spamspamspam'"
   ]
  },
  {
   "cell_type": "markdown",
   "id": "a9f24023",
   "metadata": {},
   "source": [
    "#### 8. Why is eggs a valid variable name while 100 is invalid? "
   ]
  },
  {
   "cell_type": "markdown",
   "id": "b8cb0ea7",
   "metadata": {},
   "source": [
    "ans:\n",
    "\n",
    "no variable should start with numbers or under score it is a rule in pytho"
   ]
  },
  {
   "cell_type": "markdown",
   "id": "461b4e08",
   "metadata": {},
   "source": [
    "#### 9. What three functions can be used to get the integer, floating-point number, or string version of a value?"
   ]
  },
  {
   "cell_type": "markdown",
   "id": "db719cb4",
   "metadata": {},
   "source": [
    "ans:\n",
    "    \n",
    "the three different functions are \n",
    "    for integer we use a function as int\n",
    "    for float point number we use a function as float\n",
    "    for string we use a function as str"
   ]
  },
  {
   "cell_type": "markdown",
   "id": "681ccc93",
   "metadata": {},
   "source": [
    "#### 10. Why does this expression cause an error? How can you fix it?"
   ]
  },
  {
   "cell_type": "code",
   "execution_count": 4,
   "id": "4d308623",
   "metadata": {},
   "outputs": [
    {
     "ename": "TypeError",
     "evalue": "can only concatenate str (not \"int\") to str",
     "output_type": "error",
     "traceback": [
      "\u001b[1;31m---------------------------------------------------------------------------\u001b[0m",
      "\u001b[1;31mTypeError\u001b[0m                                 Traceback (most recent call last)",
      "\u001b[1;32m~\\AppData\\Local\\Temp\\ipykernel_7076\\1516872496.py\u001b[0m in \u001b[0;36m<module>\u001b[1;34m\u001b[0m\n\u001b[0;32m      1\u001b[0m \u001b[1;31m# error\u001b[0m\u001b[1;33m\u001b[0m\u001b[1;33m\u001b[0m\u001b[0m\n\u001b[0;32m      2\u001b[0m \u001b[1;33m\u001b[0m\u001b[0m\n\u001b[1;32m----> 3\u001b[1;33m \u001b[1;34m'I have eaten '\u001b[0m \u001b[1;33m+\u001b[0m \u001b[1;36m99\u001b[0m \u001b[1;33m+\u001b[0m \u001b[1;34m' burritos'\u001b[0m\u001b[1;33m\u001b[0m\u001b[1;33m\u001b[0m\u001b[0m\n\u001b[0m",
      "\u001b[1;31mTypeError\u001b[0m: can only concatenate str (not \"int\") to str"
     ]
    }
   ],
   "source": [
    "# error\n",
    "\n",
    "'I have eaten ' + 99 + ' burritos'"
   ]
  },
  {
   "cell_type": "code",
   "execution_count": 5,
   "id": "1f14cec4",
   "metadata": {},
   "outputs": [
    {
     "data": {
      "text/plain": [
       "'I have eaten 99 burritos.'"
      ]
     },
     "execution_count": 5,
     "metadata": {},
     "output_type": "execute_result"
    }
   ],
   "source": [
    "# fix\n",
    "\n",
    "'I have eaten ' + str(99) + ' burritos.'"
   ]
  },
  {
   "cell_type": "code",
   "execution_count": null,
   "id": "dfdd0e0d",
   "metadata": {},
   "outputs": [],
   "source": []
  }
 ],
 "metadata": {
  "kernelspec": {
   "display_name": "Python 3 (ipykernel)",
   "language": "python",
   "name": "python3"
  },
  "language_info": {
   "codemirror_mode": {
    "name": "ipython",
    "version": 3
   },
   "file_extension": ".py",
   "mimetype": "text/x-python",
   "name": "python",
   "nbconvert_exporter": "python",
   "pygments_lexer": "ipython3",
   "version": "3.9.13"
  }
 },
 "nbformat": 4,
 "nbformat_minor": 5
}
