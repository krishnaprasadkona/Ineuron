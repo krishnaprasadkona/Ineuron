{
 "cells": [
  {
   "cell_type": "markdown",
   "id": "99b19cff",
   "metadata": {},
   "source": [
    "# Assignment 3"
   ]
  },
  {
   "cell_type": "markdown",
   "id": "64a8aed9",
   "metadata": {},
   "source": [
    "### 1. Why are functions advantageous to have in your programs?"
   ]
  },
  {
   "cell_type": "markdown",
   "id": "2a8e28ed",
   "metadata": {},
   "source": [
    "ans:\n",
    "\n",
    "functuion will help us to redue the code and prevent the duplicates ade\n",
    "esay to read the code what we writtten the code "
   ]
  },
  {
   "cell_type": "markdown",
   "id": "faee0285",
   "metadata": {},
   "source": [
    "### 2. When does the code in a function run: when it's specified or when it's called?"
   ]
  },
  {
   "cell_type": "markdown",
   "id": "4bb51011",
   "metadata": {},
   "source": [
    "ans:\n",
    "\n",
    "a function in python is a piece okf code which runs when it is referenced.\n",
    "it is used to utilize the code in more than one place in program\n",
    "\n",
    "a funcion is specified with keyword called def.\n",
    "\n",
    "we can call a function when there is a reusability of code when we need"
   ]
  },
  {
   "cell_type": "markdown",
   "id": "5400979c",
   "metadata": {},
   "source": [
    "### 3.What statement creates a function?"
   ]
  },
  {
   "cell_type": "markdown",
   "id": "b35de65e",
   "metadata": {},
   "source": [
    "def is a keyword it creates a function in python and it should be indented with (:)"
   ]
  },
  {
   "cell_type": "markdown",
   "id": "db3a1b74",
   "metadata": {},
   "source": [
    "#### 4. What is the difference between a function and a function call?"
   ]
  },
  {
   "cell_type": "markdown",
   "id": "a474f397",
   "metadata": {},
   "source": [
    "ans:\n",
    "\n",
    "the difference between function and function call is : \n",
    "    function is nothing but it stores a code \n",
    "    function call means we can call a function at any time when we need it in program\n",
    "    with function name."
   ]
  },
  {
   "cell_type": "code",
   "execution_count": null,
   "id": "349ba758",
   "metadata": {},
   "outputs": [],
   "source": [
    "def function4():        # Function\n",
    "    return \"Inside the function 4\"\n",
    "\n",
    "function4()             # Function call"
   ]
  },
  {
   "cell_type": "markdown",
   "id": "e4c85270",
   "metadata": {},
   "source": [
    "#### 5. How many global scopes are there in a Python program? How many local scopes?"
   ]
  },
  {
   "cell_type": "markdown",
   "id": "1b41d225",
   "metadata": {},
   "source": [
    "ans:\n",
    "\n",
    "There are 1 global scopes and 1 local scope in the python program."
   ]
  },
  {
   "cell_type": "markdown",
   "id": "52e0805a",
   "metadata": {},
   "source": [
    "#### 6. What happens to variables in a local scope when the function call returns?"
   ]
  },
  {
   "cell_type": "markdown",
   "id": "5b1ed9be",
   "metadata": {},
   "source": [
    "ans:\n",
    "\n",
    "All the local variables will disapper when function returns "
   ]
  },
  {
   "cell_type": "markdown",
   "id": "349b9881",
   "metadata": {},
   "source": [
    "#### 7. What is the concept of a return value? Is it possible to have a return value in an expression?"
   ]
  },
  {
   "cell_type": "markdown",
   "id": "13d4f47b",
   "metadata": {},
   "source": [
    "ans:\n",
    "\n",
    "Return value is value, varible or expression which a function can return.\n",
    "\n",
    "\n",
    "Yes function return value can be an expression"
   ]
  },
  {
   "cell_type": "code",
   "execution_count": 4,
   "id": "f505d924",
   "metadata": {},
   "outputs": [
    {
     "data": {
      "text/plain": [
       "40"
      ]
     },
     "execution_count": 4,
     "metadata": {},
     "output_type": "execute_result"
    }
   ],
   "source": [
    "def function7(a,b):\n",
    "    return a+b+10  ## Returning the expression\n",
    "\n",
    "function7(10, 20)"
   ]
  },
  {
   "cell_type": "markdown",
   "id": "8fed99f7",
   "metadata": {},
   "source": [
    "#### 8. If a function does not have a return statement, what is the return value of a call to that function?"
   ]
  },
  {
   "cell_type": "markdown",
   "id": "949599ee",
   "metadata": {},
   "source": [
    "ans:\n",
    "\n",
    "if there is no return statement in fun the function is unidentified it\n",
    "will not be executed"
   ]
  },
  {
   "cell_type": "code",
   "execution_count": 6,
   "id": "ce556394",
   "metadata": {},
   "outputs": [
    {
     "data": {
      "text/plain": [
       "NoneType"
      ]
     },
     "execution_count": 6,
     "metadata": {},
     "output_type": "execute_result"
    }
   ],
   "source": [
    "def function():\n",
    "    a = 50\n",
    "    b = 25\n",
    "    \n",
    "type(function())"
   ]
  },
  {
   "cell_type": "markdown",
   "id": "6b4977a4",
   "metadata": {},
   "source": [
    "#### 9. How do you make a function variable refer to the global variable?"
   ]
  },
  {
   "cell_type": "markdown",
   "id": "caf23f79",
   "metadata": {},
   "source": [
    "ans:\n",
    "\n",
    "normally we create a var in function that is called local var \n",
    "the var we create outside the function that is global var we can use it\n",
    "as global keyword"
   ]
  },
  {
   "cell_type": "code",
   "execution_count": 9,
   "id": "42b72a17",
   "metadata": {},
   "outputs": [
    {
     "name": "stdout",
     "output_type": "stream",
     "text": [
      "hiiiii\n",
      "hi\n"
     ]
    }
   ],
   "source": [
    "a = \"hiiiii\"\n",
    "def fun():\n",
    "    global a\n",
    "    a = \"hi\"\n",
    "    \n",
    "print(a)\n",
    "fun()\n",
    "print(a)"
   ]
  },
  {
   "cell_type": "markdown",
   "id": "c355ca1c",
   "metadata": {},
   "source": [
    "#### 10. What is the data type of None?"
   ]
  },
  {
   "cell_type": "markdown",
   "id": "07f81aba",
   "metadata": {},
   "source": [
    "ans:\n",
    "\n",
    "print() returns the none type.\n",
    "\n",
    "the none keyword is defiend a null value, or no vlaue at all \n",
    "none is a data type of its own nonetype and only none can be none "
   ]
  },
  {
   "cell_type": "markdown",
   "id": "85a56441",
   "metadata": {},
   "source": [
    "#### 11. What does the sentence import areallyourpetsnamederic do?"
   ]
  },
  {
   "cell_type": "markdown",
   "id": "5cde6306",
   "metadata": {},
   "source": [
    "ans:\n",
    "\n",
    "the import statement imports a module named areallyourpetsnamederic "
   ]
  },
  {
   "cell_type": "markdown",
   "id": "2c7f200c",
   "metadata": {},
   "source": [
    "#### 12. If you had a bacon() feature in a spam module, what would you call it after importing spam?"
   ]
  },
  {
   "cell_type": "markdown",
   "id": "c26c6ee1",
   "metadata": {},
   "source": [
    "ans:\n",
    "\n",
    "spam.bacon()"
   ]
  },
  {
   "cell_type": "markdown",
   "id": "1d66a851",
   "metadata": {},
   "source": [
    "#### 13. What can you do to save a programme from crashing if it encounters an error?"
   ]
  },
  {
   "cell_type": "markdown",
   "id": "9ece7444",
   "metadata": {},
   "source": [
    "ans:\n",
    "\n",
    "here we use the exception handling method to save the program \n",
    "if any error encounter it will move to try block and after move to\n",
    "except block it will throw a error instead of crashing the progaram"
   ]
  },
  {
   "cell_type": "markdown",
   "id": "7e356119",
   "metadata": {},
   "source": [
    "#### 14. What is the purpose of the try clause? What is the purpose of the except clause?"
   ]
  },
  {
   "cell_type": "markdown",
   "id": "79be8a03",
   "metadata": {},
   "source": [
    "ans:\n",
    "\n",
    "the try block will do the test of code of errors.\n",
    "the except block will handle the error "
   ]
  },
  {
   "cell_type": "markdown",
   "id": "ebd1e914",
   "metadata": {},
   "source": [
    "Together try and except block is used to save programme from crashing when an error is encountered.\n",
    "\n",
    "Try: Try block is used for any suspicious code which can throw a runtime error.\n",
    "\n",
    "Except: Except block is used to catch error if any encountered inside try block."
   ]
  },
  {
   "cell_type": "code",
   "execution_count": null,
   "id": "12d68a02",
   "metadata": {},
   "outputs": [],
   "source": []
  }
 ],
 "metadata": {
  "kernelspec": {
   "display_name": "Python 3 (ipykernel)",
   "language": "python",
   "name": "python3"
  },
  "language_info": {
   "codemirror_mode": {
    "name": "ipython",
    "version": 3
   },
   "file_extension": ".py",
   "mimetype": "text/x-python",
   "name": "python",
   "nbconvert_exporter": "python",
   "pygments_lexer": "ipython3",
   "version": "3.9.13"
  }
 },
 "nbformat": 4,
 "nbformat_minor": 5
}
