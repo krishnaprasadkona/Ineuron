{
 "cells": [
  {
   "cell_type": "markdown",
   "id": "29749383",
   "metadata": {},
   "source": [
    "# Assignment_14"
   ]
  },
  {
   "cell_type": "markdown",
   "id": "163dcf51",
   "metadata": {},
   "source": [
    "#### 1. What does RGBA stand for?"
   ]
  },
  {
   "cell_type": "markdown",
   "id": "1c024b43",
   "metadata": {},
   "source": [
    "ans:\n",
    "\n",
    "RGBA Stands for Red-Green-Blue-Alpha"
   ]
  },
  {
   "cell_type": "markdown",
   "id": "558e54b2",
   "metadata": {},
   "source": [
    "#### 2. From the Pillow module, how do you get the RGBA value of any images?"
   ]
  },
  {
   "cell_type": "markdown",
   "id": "b4b18a7c",
   "metadata": {},
   "source": [
    "ans:\n",
    "\n",
    "from PIL import ImageColor\n",
    "\n",
    "ImageColor.getcolor(color= \"colorname\",'RGBA')"
   ]
  },
  {
   "cell_type": "markdown",
   "id": "9777bd61",
   "metadata": {},
   "source": [
    "#### 3. What is a box tuple, and how does it work?"
   ]
  },
  {
   "cell_type": "markdown",
   "id": "18432bb2",
   "metadata": {},
   "source": [
    "ans:\n",
    "\n",
    "The box. tuple submodule provides read-only access for the tuple userdata type. pillow is taking a tuple of four integer coordinates that expecting a rectangular region in image. The four integers are in order left, top, right, bottom."
   ]
  },
  {
   "cell_type": "markdown",
   "id": "9a87183f",
   "metadata": {},
   "source": [
    "#### 4. Use your image and load in notebook then, How can you find out the width and height of an Image object?"
   ]
  },
  {
   "cell_type": "markdown",
   "id": "a5e02bf5",
   "metadata": {},
   "source": [
    "ans:"
   ]
  },
  {
   "cell_type": "code",
   "execution_count": 2,
   "id": "e2d6bdb5",
   "metadata": {},
   "outputs": [
    {
     "name": "stdout",
     "output_type": "stream",
     "text": [
      "width= 1338\n",
      "height= 554\n"
     ]
    }
   ],
   "source": [
    "from PIL import Image\n",
    "image=Image.open(\"jupyter error2.png\")\n",
    "width, height = image.size\n",
    "print(\"width=\", width)\n",
    "print(\"height=\", height)"
   ]
  },
  {
   "cell_type": "markdown",
   "id": "2faf48a4",
   "metadata": {},
   "source": [
    "#### 5. What method would you call to get Image object for a 100×100 image, excluding the lower-left quarter of it?"
   ]
  },
  {
   "cell_type": "markdown",
   "id": "df6755f8",
   "metadata": {},
   "source": [
    "ans:"
   ]
  },
  {
   "cell_type": "markdown",
   "id": "6c80a25a",
   "metadata": {},
   "source": [
    "from PIL import Image\n",
    "\n",
    "Image.new(\"RGBA\",(100,100))"
   ]
  },
  {
   "cell_type": "markdown",
   "id": "075bc149",
   "metadata": {},
   "source": [
    "#### 6. After making changes to an Image object, how could you save it as an image file?"
   ]
  },
  {
   "cell_type": "markdown",
   "id": "ae803ee3",
   "metadata": {},
   "source": [
    "ans:\n",
    "\n",
    "save()# filename in paranthesis"
   ]
  },
  {
   "cell_type": "markdown",
   "id": "168efaea",
   "metadata": {},
   "source": [
    "#### 7. What module contains Pillow’s shape-drawing code?"
   ]
  },
  {
   "cell_type": "markdown",
   "id": "9427cc23",
   "metadata": {},
   "source": [
    "ans:\n",
    "\n",
    "ImageDraw"
   ]
  },
  {
   "cell_type": "markdown",
   "id": "ec3a158c",
   "metadata": {},
   "source": [
    "#### 8. Image objects do not have drawing methods. What kind of object does? How do you get this kind of object?"
   ]
  },
  {
   "cell_type": "markdown",
   "id": "75a360d7",
   "metadata": {},
   "source": [
    "ans:\n",
    "\n",
    "wand.drawing.Drawing object has drawing methods.\n",
    "\n",
    "it can be got this way:\n",
    "    \n",
    "from wand.drawing import Drawing"
   ]
  }
 ],
 "metadata": {
  "kernelspec": {
   "display_name": "Python 3 (ipykernel)",
   "language": "python",
   "name": "python3"
  },
  "language_info": {
   "codemirror_mode": {
    "name": "ipython",
    "version": 3
   },
   "file_extension": ".py",
   "mimetype": "text/x-python",
   "name": "python",
   "nbconvert_exporter": "python",
   "pygments_lexer": "ipython3",
   "version": "3.9.13"
  }
 },
 "nbformat": 4,
 "nbformat_minor": 5
}
