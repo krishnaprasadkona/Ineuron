{
 "cells": [
  {
   "cell_type": "markdown",
   "id": "138b9de6",
   "metadata": {},
   "source": [
    "# Assignment 11"
   ]
  },
  {
   "cell_type": "markdown",
   "id": "587bdbec",
   "metadata": {},
   "source": [
    "#### 1. Create an assert statement that throws an AssertionError if the variable spam is a negative integer."
   ]
  },
  {
   "cell_type": "markdown",
   "id": "5dae5096",
   "metadata": {},
   "source": [
    "ans:\n",
    "\n",
    "assert spam > 0, \"Negative not allowed!\""
   ]
  },
  {
   "cell_type": "markdown",
   "id": "f12d7521",
   "metadata": {},
   "source": [
    "#### 2. Write an assert statement that triggers an AssertionError if the variables eggs and bacon contain strings that are the same as each other, even if their cases are different (that is, 'hello' and 'hello' are considered the same, and 'goodbye' and 'GOODbye' are also considered the same)."
   ]
  },
  {
   "cell_type": "markdown",
   "id": "d6dd6a05",
   "metadata": {},
   "source": [
    "ans:\n",
    "\n",
    "assert eggs.lower()!=bacon.lower(), \"eggs and bacon shouldn't be same!\""
   ]
  },
  {
   "cell_type": "markdown",
   "id": "078f0890",
   "metadata": {},
   "source": [
    "#### 3. Create an assert statement that throws an AssertionError every time."
   ]
  },
  {
   "cell_type": "markdown",
   "id": "d109d4fb",
   "metadata": {},
   "source": [
    "ans:\n",
    "\n",
    "assert False"
   ]
  },
  {
   "cell_type": "markdown",
   "id": "37a6e615",
   "metadata": {},
   "source": [
    "#### 4. What are the two lines that must be present in your software in order to call logging.debug()?"
   ]
  },
  {
   "cell_type": "markdown",
   "id": "d4374c0c",
   "metadata": {},
   "source": [
    "ans:\n",
    "\n",
    "import logging\n",
    "\n",
    "logging.basicConfig(fiename, level=logging.DEBUG)"
   ]
  },
  {
   "cell_type": "markdown",
   "id": "1e404f1b",
   "metadata": {},
   "source": [
    "#### 5. What are the two lines that your program must have in order to have logging.debug() send a logging message to a file named programLog.txt?"
   ]
  },
  {
   "cell_type": "markdown",
   "id": "d1f64a1a",
   "metadata": {},
   "source": [
    "ans:\n",
    "\n",
    "The must two lines are present are:\n",
    "\n",
    "import logging\n",
    "\n",
    "logging.basicConfig(fiename, level=logging.DEBUG)"
   ]
  },
  {
   "cell_type": "markdown",
   "id": "846e877e",
   "metadata": {},
   "source": [
    "#### 6. What are the five levels of logging?"
   ]
  },
  {
   "cell_type": "markdown",
   "id": "5c83d55d",
   "metadata": {},
   "source": [
    "ans:\n",
    "\n",
    "logging.error()\n",
    "\n",
    "logging.warning()\n",
    "\n",
    "logging.info()\n",
    "\n",
    "logging.critical()\n",
    "\n",
    "logging.debug()"
   ]
  },
  {
   "cell_type": "markdown",
   "id": "01e0beb4",
   "metadata": {},
   "source": [
    "#### 7. What line of code would you add to your software to disable all logging messages?"
   ]
  },
  {
   "cell_type": "markdown",
   "id": "6fbc6306",
   "metadata": {},
   "source": [
    "ans:\n",
    "\n",
    "logging.disable(level)"
   ]
  },
  {
   "cell_type": "markdown",
   "id": "9dfd084c",
   "metadata": {},
   "source": [
    "#### 8.Why is using logging messages better than using print() to display the same message?"
   ]
  },
  {
   "cell_type": "markdown",
   "id": "678de1eb",
   "metadata": {},
   "source": [
    "ans:\n",
    "\n",
    "It helps to see where and when a logging call is being made from\n",
    "\n",
    "we can differentiate logging based on severity\n",
    "\n",
    "print does not have any of them"
   ]
  },
  {
   "cell_type": "markdown",
   "id": "a6d5b475",
   "metadata": {},
   "source": [
    "#### 9. What are the differences between the Step Over, Step In, and Step Out buttons in the debugger?"
   ]
  },
  {
   "cell_type": "markdown",
   "id": "4bdbf020",
   "metadata": {},
   "source": [
    "ans:\n",
    "\n",
    "Step In will dig into method calls.\n",
    "\n",
    "Step Over will just execute the line and go to the next line.\n",
    "\n",
    "Step Out Steps out of the current method and takes you to the caller method."
   ]
  },
  {
   "cell_type": "markdown",
   "id": "a68ed4d4",
   "metadata": {},
   "source": [
    "#### 10.After you click Continue, when will the debugger stop ?"
   ]
  },
  {
   "cell_type": "markdown",
   "id": "de850ded",
   "metadata": {},
   "source": [
    "ans:\n",
    "\n",
    "when it has reached the end of a program or a breakpoint"
   ]
  },
  {
   "cell_type": "markdown",
   "id": "d41aa4c6",
   "metadata": {},
   "source": [
    "#### 11. What is the concept of a breakpoint?"
   ]
  },
  {
   "cell_type": "markdown",
   "id": "8cd9ef1a",
   "metadata": {},
   "source": [
    "ans:\n",
    "\n",
    "An intentional stopping point or pause put into program for debugging purpose"
   ]
  }
 ],
 "metadata": {
  "kernelspec": {
   "display_name": "Python 3 (ipykernel)",
   "language": "python",
   "name": "python3"
  },
  "language_info": {
   "codemirror_mode": {
    "name": "ipython",
    "version": 3
   },
   "file_extension": ".py",
   "mimetype": "text/x-python",
   "name": "python",
   "nbconvert_exporter": "python",
   "pygments_lexer": "ipython3",
   "version": "3.9.13"
  }
 },
 "nbformat": 4,
 "nbformat_minor": 5
}
