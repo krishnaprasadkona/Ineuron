{
 "cells": [
  {
   "cell_type": "markdown",
   "id": "6dab986d",
   "metadata": {},
   "source": [
    "# Assignment 8"
   ]
  },
  {
   "cell_type": "markdown",
   "id": "741adbe5",
   "metadata": {},
   "source": [
    "#### 1. Is the Python Standard Library included with PyInputPlus?"
   ]
  },
  {
   "cell_type": "markdown",
   "id": "98246ab0",
   "metadata": {},
   "source": [
    "ans:\n",
    "    Pyinputplus is not a standard library we need to install it seperately by using command pip"
   ]
  },
  {
   "cell_type": "code",
   "execution_count": null,
   "id": "3ed3c7b7",
   "metadata": {},
   "outputs": [],
   "source": [
    "!pip install Pyinputplus"
   ]
  },
  {
   "cell_type": "markdown",
   "id": "86de09ff",
   "metadata": {},
   "source": [
    "#### 2. Why is PyInputPlus commonly imported with import pyinputplus as pypi?"
   ]
  },
  {
   "cell_type": "markdown",
   "id": "f6ada3dd",
   "metadata": {},
   "source": [
    "ans:\n",
    "\n",
    "pypi is alias of PyInputPlus. The as pyip code in the import statement saves us from typing pyinputplus each time we want to call a PyInputPlus function. Instead we can use the shorter pyip name"
   ]
  },
  {
   "cell_type": "code",
   "execution_count": null,
   "id": "1c3a0e21",
   "metadata": {},
   "outputs": [],
   "source": [
    "import PyInputPlus as pypi"
   ]
  },
  {
   "cell_type": "markdown",
   "id": "e54b293d",
   "metadata": {},
   "source": [
    "#### 3. How do you distinguish between inputInt() and inputFloat()?"
   ]
  },
  {
   "cell_type": "markdown",
   "id": "438db545",
   "metadata": {},
   "source": [
    "ans:\n",
    "\n",
    "inputInt() : Accepts an integer value, and returns int value\n",
    "\n",
    "inputFloat() : Accepts integer/floating point value and returns float value\n",
    "\n",
    "Both takes additional parameters ‘min’, ‘max’, ‘greaterThan’ and ‘lessThan’ for bounds"
   ]
  },
  {
   "cell_type": "markdown",
   "id": "66142b27",
   "metadata": {},
   "source": [
    "#### 4. Using PyInputPlus, how do you ensure that the user enters a whole number between 0 and 99?"
   ]
  },
  {
   "cell_type": "markdown",
   "id": "c6510e0e",
   "metadata": {},
   "source": [
    "In the inputint function we can set the min = 0 and max =99 to ensure user enters number between 0 and 99\n",
    "\n",
    "pyip.inputInt(min = 0, max =99)"
   ]
  },
  {
   "cell_type": "markdown",
   "id": "90b79f03",
   "metadata": {},
   "source": [
    "#### 5. What is transferred to the keyword arguments allowRegexes and blockRegexes?"
   ]
  },
  {
   "cell_type": "markdown",
   "id": "86d8011b",
   "metadata": {},
   "source": [
    "ans:\n",
    "\n",
    "We can use regular expressions to specify whether an input is allowed or not.\n",
    "\n",
    "The allowRegexes and blockRegexes keyword arguments take a list of regular expression strings to determine what the PyInputPlus function will accept or reject as valid input.\n",
    "\n",
    "Example:\n",
    "\n",
    "pyip.inputNum(allowRegexes = [r'(I|V|X|L|C|D|M)+', r'zero']) # it allowes roman letters as numbers too\n",
    "pyip.inputNum(blockRegexes = [r\"[02468]$\"])# blocks the even numbers"
   ]
  },
  {
   "cell_type": "markdown",
   "id": "7814e8f5",
   "metadata": {},
   "source": [
    "#### 6. If a blank input is entered three times, what does inputStr(limit=3) do?"
   ]
  },
  {
   "cell_type": "markdown",
   "id": "99e5050d",
   "metadata": {},
   "source": [
    "ans:\n",
    "    \n",
    "inputStr(limit=3) will throw RetryLimitException exception."
   ]
  },
  {
   "cell_type": "markdown",
   "id": "0afd2d08",
   "metadata": {},
   "source": [
    "#### 7. If blank input is entered three times, what does inputStr(limit=3, default='hello') do?"
   ]
  },
  {
   "cell_type": "markdown",
   "id": "f05df0bb",
   "metadata": {},
   "source": [
    "ans:\n",
    "\n",
    "When you use limit keyword arguments and also pass a default keyword argument, the function returns the default value instead of raising an exception"
   ]
  }
 ],
 "metadata": {
  "kernelspec": {
   "display_name": "Python 3 (ipykernel)",
   "language": "python",
   "name": "python3"
  },
  "language_info": {
   "codemirror_mode": {
    "name": "ipython",
    "version": 3
   },
   "file_extension": ".py",
   "mimetype": "text/x-python",
   "name": "python",
   "nbconvert_exporter": "python",
   "pygments_lexer": "ipython3",
   "version": "3.9.13"
  }
 },
 "nbformat": 4,
 "nbformat_minor": 5
}
