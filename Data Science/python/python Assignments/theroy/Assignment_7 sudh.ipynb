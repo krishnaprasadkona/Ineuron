{
 "cells": [
  {
   "cell_type": "markdown",
   "id": "74852af4",
   "metadata": {},
   "source": [
    "# Assignment 7"
   ]
  },
  {
   "cell_type": "markdown",
   "id": "6a8bcab8",
   "metadata": {},
   "source": [
    "#### 1. What is the name of the feature responsible for generating Regex objects?"
   ]
  },
  {
   "cell_type": "markdown",
   "id": "42dee8c5",
   "metadata": {},
   "source": [
    "ans:\n",
    "\n",
    "The re. compile() function returns Regex objects."
   ]
  },
  {
   "cell_type": "markdown",
   "id": "93dd7c16",
   "metadata": {},
   "source": [
    "#### 2. Why do raw strings often appear in Regex objects?"
   ]
  },
  {
   "cell_type": "markdown",
   "id": "d8569348",
   "metadata": {},
   "source": [
    "ans:\n",
    "\n",
    "Raw strings are used so that backslashes do not have to be escaped."
   ]
  },
  {
   "cell_type": "markdown",
   "id": "872a6300",
   "metadata": {},
   "source": [
    "#### 3. What is the return value of the search() method?"
   ]
  },
  {
   "cell_type": "markdown",
   "id": "7dc83478",
   "metadata": {},
   "source": [
    "ans:\n",
    "\n",
    "It returns a match object if there is a match else returns none.\n",
    "\n",
    "The search() method returns the index (position) of the first match. \n",
    "The search() method returns -1 if no match is found."
   ]
  },
  {
   "cell_type": "markdown",
   "id": "f72399a9",
   "metadata": {},
   "source": [
    "#### 4. From a Match item, how do you get the actual strings that match the pattern?"
   ]
  },
  {
   "cell_type": "markdown",
   "id": "2221a858",
   "metadata": {},
   "source": [
    "ans:\n",
    "\n",
    "group() method returns the actual string that match the pattern"
   ]
  },
  {
   "cell_type": "markdown",
   "id": "23542dd6",
   "metadata": {},
   "source": [
    "#### 5.In the regex which created from the r'(\\d\\d\\d)-(\\d\\d\\d-\\d\\d\\d\\d)',  what does group zero cover? Group 2? Group 1?"
   ]
  },
  {
   "cell_type": "markdown",
   "id": "d36d7eaf",
   "metadata": {},
   "source": [
    "ans:\n",
    "\n",
    "Group 0 is the entire match, \n",
    "group 1 covers the first set of parentheses,\n",
    "and group 2 covers the second set of parentheses."
   ]
  },
  {
   "cell_type": "markdown",
   "id": "e79d06a5",
   "metadata": {},
   "source": [
    "group 0 covers (\\d\\d\\d)-(\\d\\d\\d-\\d\\d\\d\\d)\n",
    "group 1 covers (\\d\\d\\d)\n",
    "group 2 covers (\\d\\d\\d-\\d\\d\\d\\d)"
   ]
  },
  {
   "cell_type": "markdown",
   "id": "3b045457",
   "metadata": {},
   "source": [
    "#### 6. In standard expression syntax, parentheses and intervals have distinct meanings. How can you tell a regex that you want it to fit real parentheses and periods?"
   ]
  },
  {
   "cell_type": "code",
   "execution_count": null,
   "id": "acb4a23a",
   "metadata": {},
   "outputs": [],
   "source": [
    "ans:\n",
    "\n",
    "Periods and parentheses can be escaped with a backslash: \\., \\(, and \\)."
   ]
  },
  {
   "cell_type": "markdown",
   "id": "be7f15a4",
   "metadata": {},
   "source": [
    "#### 7. The findall() method returns a string list or a list of string tuples. What causes it to return one of the two options?"
   ]
  },
  {
   "cell_type": "markdown",
   "id": "4fc60265",
   "metadata": {},
   "source": [
    "ans:\n",
    "\n",
    "If there is a one group in the expression, findall() returns list of strings. If there is several groups in the expression, findall() returns list of tuple of strings."
   ]
  },
  {
   "cell_type": "markdown",
   "id": "80648c69",
   "metadata": {},
   "source": [
    "#### 8. In standard expressions, what does the | character mean?"
   ]
  },
  {
   "cell_type": "markdown",
   "id": "7326d7ee",
   "metadata": {},
   "source": [
    "ans:\n",
    "\n",
    "the character of expression is either (or)"
   ]
  },
  {
   "cell_type": "markdown",
   "id": "e73b7ee5",
   "metadata": {},
   "source": [
    "#### 9. In regular expressions, what does the character stand for?"
   ]
  },
  {
   "cell_type": "code",
   "execution_count": null,
   "id": "cb793c18",
   "metadata": {},
   "outputs": [],
   "source": [
    "ans:\n",
    "    \n",
    "Zero or one occerences"
   ]
  },
  {
   "cell_type": "markdown",
   "id": "fbc6101f",
   "metadata": {},
   "source": [
    "#### 10.In regular expressions, what is the difference between the + and * characters?"
   ]
  },
  {
   "cell_type": "markdown",
   "id": "0c26ad15",
   "metadata": {},
   "source": [
    "ans:\n",
    "\n",
    "\n",
    "each  of them are quanrifiers, the star quantifier (*) means that the preceding \n",
    "expression can match zero or more times it is like {0,} while plus quantifier\n",
    "(+) indicate that the pecedingg  expression   Must match atleast one or  time \n",
    "time or multiple times and it is the same as {1}"
   ]
  },
  {
   "cell_type": "markdown",
   "id": "7809711b",
   "metadata": {},
   "source": [
    "#### 11. What is the difference between {4} and {4,5} in regular expression?"
   ]
  },
  {
   "cell_type": "markdown",
   "id": "b71d5f04",
   "metadata": {},
   "source": [
    "ans:\n",
    "\n",
    "{4} means preceding character is to be repeated 4 times.\n",
    "{4,5} means preceding character is repeated minimum 4 times and maximum 5 times. "
   ]
  },
  {
   "cell_type": "markdown",
   "id": "4799f57b",
   "metadata": {},
   "source": [
    "#### 12. What do you mean by the \\d, \\w, and \\s shorthand character classes  signify in regular expressions?"
   ]
  },
  {
   "cell_type": "markdown",
   "id": "1997674d",
   "metadata": {},
   "source": [
    "ans:\n",
    "\n",
    "\\d returns a match where string contains digit(number from 0-9)\n",
    "\\w returns a match where string contains any word character(character from a to Z, digit from 0 to 9 and underscore character)\n",
    "\\s returns a match where string contains a whitespace character."
   ]
  },
  {
   "cell_type": "markdown",
   "id": "7cc21128",
   "metadata": {},
   "source": [
    "#### 13. What do you mean by the \\d, \\w, and \\s shorthand character classes signify in regular expressions?"
   ]
  },
  {
   "cell_type": "markdown",
   "id": "98415ea6",
   "metadata": {},
   "source": [
    "ans:\n",
    "\n",
    "this will match a single character that is not a digit, word or space \n",
    "character, respectively."
   ]
  },
  {
   "cell_type": "markdown",
   "id": "bec1d96b",
   "metadata": {},
   "source": [
    "#### 14. What is the difference between .*? and .*?"
   ]
  },
  {
   "cell_type": "markdown",
   "id": "a1262166",
   "metadata": {},
   "source": [
    "ans:\n",
    "\n",
    "' . '  accepts as many sequence as available(Greedy approach)\n",
    "' .? ' accepts the first matched sequence and then stops(Non-Greedy approach)."
   ]
  },
  {
   "cell_type": "markdown",
   "id": "4dab127a",
   "metadata": {},
   "source": [
    "#### 15. What is the syntax for matching both numbers and lowercase letters with a character class?"
   ]
  },
  {
   "cell_type": "markdown",
   "id": "61563f35",
   "metadata": {},
   "source": [
    "ans:\n",
    "\n",
    "you can also include ranges of letters or numbers by using a hyphen.\n",
    "For example, the character class [a-zA-Z0 -9 ] will match all lowercasse\n",
    "letters ,uppercase letteres, and numbers "
   ]
  },
  {
   "cell_type": "markdown",
   "id": "08c79771",
   "metadata": {},
   "source": [
    "#### 16. What is the procedure for making a normal expression in regax case insensitive?"
   ]
  },
  {
   "cell_type": "markdown",
   "id": "5022d947",
   "metadata": {},
   "source": [
    "ans:\n",
    "\n",
    "But with the help kof regular Expression case-sensitive.\n",
    "There are two ways to make Regular Expression case-insensitive:\n",
    "using CASE_INSENSITIVE flag."
   ]
  },
  {
   "cell_type": "markdown",
   "id": "1f8c1f13",
   "metadata": {},
   "source": [
    "#### 17. What does the . character normally match? What does it match if  re.DOTALL is passed as 2nd argument in re.compile()?"
   ]
  },
  {
   "cell_type": "markdown",
   "id": "3bdbc474",
   "metadata": {},
   "source": [
    "ans:\n",
    "\n",
    "character normally matches any character except teh newline character \n",
    "if  re.DOTALL is passed as the second argument to re.compile(), then \n",
    "dot will also match newline characters"
   ]
  },
  {
   "cell_type": "markdown",
   "id": "ca664abb",
   "metadata": {},
   "source": [
    "#### 18. If numReg = re.compile(r'\\d+'), what will numRegex.sub ('X', '11 drummers, 10 pipers, five rings, 4 hen') return?"
   ]
  },
  {
   "cell_type": "markdown",
   "id": "61a54be7",
   "metadata": {},
   "source": [
    "ans:\n",
    "    \n",
    "'X drummers, X pipers, five rings, X hen'"
   ]
  },
  {
   "cell_type": "markdown",
   "id": "c7bfcd5b",
   "metadata": {},
   "source": [
    "#### 19. What does passing re.VERBOSE as the 2nd argument to re.compile() allow to do?"
   ]
  },
  {
   "cell_type": "markdown",
   "id": "2101bc3d",
   "metadata": {},
   "source": [
    "ans:\n",
    "    \n",
    "the re VERBOSE argument allows you to add whitespace and comments to the \n",
    "string passed to re."
   ]
  },
  {
   "cell_type": "markdown",
   "id": "0813dc36",
   "metadata": {},
   "source": [
    "#### 20. How would you write a regex that match a number with comma for every three digits? It must match the given following:"
   ]
  },
  {
   "cell_type": "markdown",
   "id": "b9c8690b",
   "metadata": {},
   "source": [
    "ans:\n",
    "\n",
    "'42'\n",
    "'1,234'\n",
    "   but not the following:\n",
    "'12,34,567' (which has only two digits between the commas)\n",
    "'1234' (which lacks commas)"
   ]
  }
 ],
 "metadata": {
  "kernelspec": {
   "display_name": "Python 3 (ipykernel)",
   "language": "python",
   "name": "python3"
  },
  "language_info": {
   "codemirror_mode": {
    "name": "ipython",
    "version": 3
   },
   "file_extension": ".py",
   "mimetype": "text/x-python",
   "name": "python",
   "nbconvert_exporter": "python",
   "pygments_lexer": "ipython3",
   "version": "3.9.13"
  }
 },
 "nbformat": 4,
 "nbformat_minor": 5
}
