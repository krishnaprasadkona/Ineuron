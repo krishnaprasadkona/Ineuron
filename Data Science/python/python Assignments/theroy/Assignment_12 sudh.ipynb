{
 "cells": [
  {
   "cell_type": "markdown",
   "id": "9d39052d",
   "metadata": {},
   "source": [
    "# Assignment 12"
   ]
  },
  {
   "cell_type": "markdown",
   "id": "5dfc5085",
   "metadata": {},
   "source": [
    "#### 1. In what modes should the PdfFileReader() and PdfFileWriter() File objects will be opened?"
   ]
  },
  {
   "cell_type": "markdown",
   "id": "e7a20d9f",
   "metadata": {},
   "source": [
    "ans:\n",
    "\n",
    "PdfFileReader() will opened in read binary mode.PdfFileWriter() will open in write binary mode"
   ]
  },
  {
   "cell_type": "markdown",
   "id": "158776a6",
   "metadata": {},
   "source": [
    "#### 2. From a PdfFileReader object, how do you get a Page object for page 5?"
   ]
  },
  {
   "cell_type": "markdown",
   "id": "8d3447d0",
   "metadata": {},
   "source": [
    "ans:\n",
    "\n",
    "PdfFilereader.getPage(5)"
   ]
  },
  {
   "cell_type": "markdown",
   "id": "52e010d7",
   "metadata": {},
   "source": [
    "#### 3. What PdfFileReader variable stores the number of pages in the PDF document?"
   ]
  },
  {
   "cell_type": "markdown",
   "id": "32f31a98",
   "metadata": {},
   "source": [
    "ans:\n",
    "\n",
    "numpages"
   ]
  },
  {
   "cell_type": "markdown",
   "id": "93e1e839",
   "metadata": {},
   "source": [
    "#### 4. If a PdfFileReader object’s PDF is encrypted with the password swordfish, what must you do before you can obtain Page objects from it?"
   ]
  },
  {
   "cell_type": "markdown",
   "id": "30207bf7",
   "metadata": {},
   "source": [
    "obj.decrypt(\"swordfish\")"
   ]
  },
  {
   "cell_type": "markdown",
   "id": "70154480",
   "metadata": {},
   "source": [
    "#### 5. What methods do you use to rotate a page?"
   ]
  },
  {
   "cell_type": "markdown",
   "id": "a4e0fe01",
   "metadata": {},
   "source": [
    "ans:\n",
    "\n",
    "There are two methods\n",
    "    \n",
    "1.rotateClockwise() \n",
    "\n",
    "2.rotateCounterClockwise()"
   ]
  },
  {
   "cell_type": "markdown",
   "id": "dbbbb5df",
   "metadata": {},
   "source": [
    "#### 6. What is the difference between a Run object and a Paragraph object?"
   ]
  },
  {
   "cell_type": "markdown",
   "id": "fb7b9e2f",
   "metadata": {},
   "source": [
    "ans:\n",
    "\n",
    "\n",
    "paragraph object is needed to get paragraph  from a document, runs object is needed whenever text style changes in a paragraph"
   ]
  },
  {
   "cell_type": "markdown",
   "id": "4b6c30e9",
   "metadata": {},
   "source": [
    "#### 7. How do you obtain a list of Paragraph objects for a Document object that’s stored in a variable named doc?"
   ]
  },
  {
   "cell_type": "markdown",
   "id": "43201688",
   "metadata": {},
   "source": [
    "ans:\n",
    "\n",
    "doc.paragraphs"
   ]
  },
  {
   "cell_type": "markdown",
   "id": "5dd695ce",
   "metadata": {},
   "source": [
    "#### 8. What type of object has bold, underline, italic, strike, and outline variables?"
   ]
  },
  {
   "cell_type": "markdown",
   "id": "0cf737e5",
   "metadata": {},
   "source": [
    "ans:\n",
    "\n",
    "runs"
   ]
  },
  {
   "cell_type": "markdown",
   "id": "36d4ff32",
   "metadata": {},
   "source": [
    "#### 9. What is the difference between False, True, and None for the bold variable?"
   ]
  },
  {
   "cell_type": "markdown",
   "id": "e687e2d0",
   "metadata": {},
   "source": [
    "ans:\n",
    "\n",
    "the difference b/w False True and None for the bold variables are:\n",
    "\n",
    "True = bold is always enabled no matter what other syles are applied to the run,\n",
    "\n",
    "False = bold is always disabled \n",
    "\n",
    "None = defaults to whatever the run's style set to \n"
   ]
  },
  {
   "cell_type": "markdown",
   "id": "275b68eb",
   "metadata": {},
   "source": [
    "#### 10. How do you create a Document object for a new Word document?"
   ]
  },
  {
   "cell_type": "markdown",
   "id": "78fc9af8",
   "metadata": {},
   "source": [
    "ans:\n",
    "\n",
    "import docx \n",
    "\n",
    "doc = docx.Document(.docx myfile)"
   ]
  },
  {
   "cell_type": "markdown",
   "id": "51d0a215",
   "metadata": {},
   "source": [
    "#### 11. How do you add a paragraph with the text 'Hello, there!' to a Document object stored in a variable named doc?"
   ]
  },
  {
   "cell_type": "markdown",
   "id": "452423c7",
   "metadata": {},
   "source": [
    "ans:\n",
    "\n",
    "doc.add_paragraph(\"Hello,there!\")"
   ]
  },
  {
   "cell_type": "markdown",
   "id": "1d35e72c",
   "metadata": {},
   "source": [
    "#### 12. What integers represent the levels of headings available in Word documents?"
   ]
  },
  {
   "cell_type": "markdown",
   "id": "2a496c45",
   "metadata": {},
   "source": [
    "ans:\n",
    "\n",
    "the level of headings available in word documents are 0 to 4"
   ]
  },
  {
   "cell_type": "code",
   "execution_count": null,
   "id": "48deeb03",
   "metadata": {},
   "outputs": [],
   "source": []
  }
 ],
 "metadata": {
  "kernelspec": {
   "display_name": "Python 3 (ipykernel)",
   "language": "python",
   "name": "python3"
  },
  "language_info": {
   "codemirror_mode": {
    "name": "ipython",
    "version": 3
   },
   "file_extension": ".py",
   "mimetype": "text/x-python",
   "name": "python",
   "nbconvert_exporter": "python",
   "pygments_lexer": "ipython3",
   "version": "3.9.13"
  }
 },
 "nbformat": 4,
 "nbformat_minor": 5
}
