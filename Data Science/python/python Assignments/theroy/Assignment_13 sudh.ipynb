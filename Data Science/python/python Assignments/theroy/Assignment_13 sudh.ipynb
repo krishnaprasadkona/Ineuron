{
 "cells": [
  {
   "cell_type": "markdown",
   "id": "7a0ff2d3",
   "metadata": {},
   "source": [
    "# Assignment_13"
   ]
  },
  {
   "cell_type": "markdown",
   "id": "5a0cba74",
   "metadata": {},
   "source": [
    "#### 1. What advantages do Excel spreadsheets have over CSV spreadsheets?"
   ]
  },
  {
   "cell_type": "markdown",
   "id": "98cce016",
   "metadata": {},
   "source": [
    "ans:\n",
    "\n",
    "In Excel spreadsheets reading large data set is much easiser than when compared to csv data Excel provides the linking the data from external sources but no such feature available in csv."
   ]
  },
  {
   "cell_type": "markdown",
   "id": "e8150bf3",
   "metadata": {},
   "source": [
    "#### 2.What do you pass to csv.reader() and csv.writer() to create reader and writer objects?"
   ]
  },
  {
   "cell_type": "markdown",
   "id": "8fb75fae",
   "metadata": {},
   "source": [
    "ans:\n",
    "\n",
    "we pass the file objcet to read and write the for the wirter objects "
   ]
  },
  {
   "cell_type": "markdown",
   "id": "dadab895",
   "metadata": {},
   "source": [
    "#### 3. What modes do File objects for reader and writer objects need to be opened in?"
   ]
  },
  {
   "cell_type": "markdown",
   "id": "8532ab42",
   "metadata": {},
   "source": [
    "ans:\n",
    "\n",
    "\"r\"  (read mode) for reader objects and \"w\"(writemode) for writer objects \n",
    "\n",
    "\"w+\" (read and write mode) for read and write "
   ]
  },
  {
   "cell_type": "markdown",
   "id": "94f045db",
   "metadata": {},
   "source": [
    "#### 4. What method takes a list argument and writes it to a CSV file?"
   ]
  },
  {
   "cell_type": "markdown",
   "id": "9a73a0f3",
   "metadata": {},
   "source": [
    "ans:\n",
    "\n",
    "writerow() method of csv.writer()"
   ]
  },
  {
   "cell_type": "markdown",
   "id": "f9d35ae5",
   "metadata": {},
   "source": [
    "#### 5. What do the keyword arguments delimiter and line terminator do?"
   ]
  },
  {
   "cell_type": "markdown",
   "id": "82ad0bd6",
   "metadata": {},
   "source": [
    "ans:\n",
    "\n",
    "The delimiter is the character that appears between cells on a row. \n",
    "By default, the delimiter for a CSV file is a comma. \n",
    "\n",
    "\n",
    "The line terminator is the character that comes at the end of a row. By default, the line terminator is a newline"
   ]
  },
  {
   "cell_type": "markdown",
   "id": "60121082",
   "metadata": {},
   "source": [
    "#### 6. What function takes a string of JSON data and returns a Python data structure?"
   ]
  },
  {
   "cell_type": "markdown",
   "id": "bb76d4b8",
   "metadata": {},
   "source": [
    "ans:\n",
    "\n",
    "json.loads()"
   ]
  },
  {
   "cell_type": "markdown",
   "id": "f176d003",
   "metadata": {},
   "source": [
    "#### 7. What function takes a Python data structure and returns a string of JSON data?"
   ]
  },
  {
   "cell_type": "markdown",
   "id": "a7215422",
   "metadata": {},
   "source": [
    "ans:\n",
    "\n",
    "json.dumps()"
   ]
  }
 ],
 "metadata": {
  "kernelspec": {
   "display_name": "Python 3 (ipykernel)",
   "language": "python",
   "name": "python3"
  },
  "language_info": {
   "codemirror_mode": {
    "name": "ipython",
    "version": 3
   },
   "file_extension": ".py",
   "mimetype": "text/x-python",
   "name": "python",
   "nbconvert_exporter": "python",
   "pygments_lexer": "ipython3",
   "version": "3.9.13"
  }
 },
 "nbformat": 4,
 "nbformat_minor": 5
}
