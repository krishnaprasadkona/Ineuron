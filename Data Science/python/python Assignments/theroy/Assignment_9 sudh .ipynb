{
 "cells": [
  {
   "cell_type": "markdown",
   "id": "3497ac46",
   "metadata": {},
   "source": [
    "# Assignment 9"
   ]
  },
  {
   "cell_type": "markdown",
   "id": "7555eda9",
   "metadata": {},
   "source": [
    "#### 1. To what does a relative path refer?"
   ]
  },
  {
   "cell_type": "markdown",
   "id": "6f913c5a",
   "metadata": {},
   "source": [
    "ans:\n",
    "\n",
    "A relative path refers to a location that is relative to a current directory. when using relative path, we need to provide the absolute/complete path of file form root directory, instead we can give the partial/relative path to inidcate the file location "
   ]
  },
  {
   "cell_type": "markdown",
   "id": "e549bd4f",
   "metadata": {},
   "source": [
    "#### 2. What does an absolute path start with your operating system?"
   ]
  },
  {
   "cell_type": "markdown",
   "id": "16def33e",
   "metadata": {},
   "source": [
    "ans:\n",
    "\n",
    "For windows Operating system there are so many absolute path will be there. basically im using the windows os with singel Hard drive, so may absolute path starts with C:\\"
   ]
  },
  {
   "cell_type": "markdown",
   "id": "c79de6bf",
   "metadata": {},
   "source": [
    "#### 3. What do the functions os.getcwd() and os.chdir() do?"
   ]
  },
  {
   "cell_type": "markdown",
   "id": "72e6c54b",
   "metadata": {},
   "source": [
    "ans:\n",
    "\n",
    "os.getcwd() it means it retrun the current working dirctory \n",
    "os.chdir() it means it is used to change the cwd while running the program "
   ]
  },
  {
   "cell_type": "markdown",
   "id": "ce75dd1e",
   "metadata": {},
   "source": [
    "#### 4. What are the . and .. folders?"
   ]
  },
  {
   "cell_type": "markdown",
   "id": "105224d2",
   "metadata": {},
   "source": [
    "ans :\n",
    "\n",
    ".single dot means it refers to current folder \n",
    ".. dounle dot means it refers to parent folder "
   ]
  },
  {
   "cell_type": "markdown",
   "id": "54705108",
   "metadata": {},
   "source": [
    "#### 5. In C:\\bacon\\eggs\\spam.txt, which part is the dir name, and which part is the base name?"
   ]
  },
  {
   "cell_type": "markdown",
   "id": "9bb9ae79",
   "metadata": {},
   "source": [
    "ans:\n",
    "\n",
    "c:\\bacon\\eggs\\ = it is the dir name \n",
    "spam.txt = this is base name"
   ]
  },
  {
   "cell_type": "markdown",
   "id": "fcb542b7",
   "metadata": {},
   "source": [
    "#### 6. What are the three “mode” arguments that can be passed to the open() function?"
   ]
  },
  {
   "cell_type": "markdown",
   "id": "c7ee72ec",
   "metadata": {},
   "source": [
    "ans:\n",
    "\n",
    "The three mode arguments that can be passed be the open() function are:\n",
    "\n",
    "\"r\"  = it is for read mode \n",
    "\"w\"  = it is for write mode\n",
    "\"a\"  = it is for append mode\n",
    "\n",
    "Extra:\n",
    "     r+ = read and write \n",
    "     w+ = it also works for read and write"
   ]
  },
  {
   "cell_type": "markdown",
   "id": "428fc259",
   "metadata": {},
   "source": [
    "#### 7. What happens if an existing file is opened in write mode?"
   ]
  },
  {
   "cell_type": "markdown",
   "id": "ce681ff4",
   "metadata": {},
   "source": [
    "ans:\n",
    "\n",
    "if an existing file is opened means then all the existing file content from the file is erased and the new content will be added \n",
    "\n",
    "in this seniario we will loss the data "
   ]
  },
  {
   "cell_type": "markdown",
   "id": "f69f92f3",
   "metadata": {},
   "source": [
    "#### 8. How do you tell the difference between read() and readlines()?"
   ]
  },
  {
   "cell_type": "markdown",
   "id": "0bbe9c8c",
   "metadata": {},
   "source": [
    "ans:\n",
    "\n",
    "The difference b/w read() and readlines()\n",
    "\n",
    "the read() function will return entire data as a single string value.\n",
    "\n",
    "the readlines() function will return the list of strngs ,  where each string is a line from the file's content's"
   ]
  },
  {
   "cell_type": "markdown",
   "id": "17578555",
   "metadata": {},
   "source": [
    "#### 9. What data structure does a shelf value resemble?"
   ]
  },
  {
   "cell_type": "markdown",
   "id": "2818e2ac",
   "metadata": {},
   "source": [
    "ans:\n",
    "\n",
    "A shelf value means nothing but, it resembles a dictionary vlaue; \n",
    "\n",
    "it has keys and values, along with keys() and values()methods that work similarly to the dictionary methods of the same names"
   ]
  }
 ],
 "metadata": {
  "kernelspec": {
   "display_name": "Python 3 (ipykernel)",
   "language": "python",
   "name": "python3"
  },
  "language_info": {
   "codemirror_mode": {
    "name": "ipython",
    "version": 3
   },
   "file_extension": ".py",
   "mimetype": "text/x-python",
   "name": "python",
   "nbconvert_exporter": "python",
   "pygments_lexer": "ipython3",
   "version": "3.9.13"
  }
 },
 "nbformat": 4,
 "nbformat_minor": 5
}
