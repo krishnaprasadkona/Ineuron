{
 "cells": [
  {
   "cell_type": "markdown",
   "id": "39e79ab4",
   "metadata": {},
   "source": [
    "# Assignment 6"
   ]
  },
  {
   "cell_type": "markdown",
   "id": "0f491fd8",
   "metadata": {},
   "source": [
    "#### 1. What are escape characters, and how do you use them?"
   ]
  },
  {
   "cell_type": "markdown",
   "id": "27c2ea61",
   "metadata": {},
   "source": [
    "ans:\n",
    "\n",
    "In Python strings, the backslash() is a special character, also called the \"escape\" character. It is used in representing certain whitespace characters: \"\\t\" is a tab, \"\\n\" is a newline, and \"\\r\" is a carriage return\n",
    "\n",
    "prefixing a special character with() turns it into an ordinary character. This is called \"escaping\". For example, \" \\' \" is the single quote character. 'It's Sunday' therefore is a valid string and equivalent to \"It's Sunday\"."
   ]
  },
  {
   "cell_type": "markdown",
   "id": "ea9ee5c7",
   "metadata": {},
   "source": [
    "#### 2. What do the escape characters n and t stand for?"
   ]
  },
  {
   "cell_type": "markdown",
   "id": "47f04729",
   "metadata": {},
   "source": [
    "ans:\n",
    "\n",
    "the escape characters \\n  is a new line; \\t is a tab"
   ]
  },
  {
   "cell_type": "markdown",
   "id": "3bc9a244",
   "metadata": {},
   "source": [
    "#### 3. What is the way to include backslash characters in a string?"
   ]
  },
  {
   "cell_type": "markdown",
   "id": "98e6b156",
   "metadata": {},
   "source": [
    "ans:\n",
    "\n",
    "The \\\\ escape character will represent a blackslash character "
   ]
  },
  {
   "cell_type": "code",
   "execution_count": 5,
   "id": "952fa691",
   "metadata": {},
   "outputs": [
    {
     "name": "stdout",
     "output_type": "stream",
     "text": [
      " back slash \\ in a string\n"
     ]
    }
   ],
   "source": [
    "print(\" back slash \\ in a string\")"
   ]
  },
  {
   "cell_type": "code",
   "execution_count": 6,
   "id": "57bf1e54",
   "metadata": {},
   "outputs": [
    {
     "name": "stdout",
     "output_type": "stream",
     "text": [
      " back slash \\ in a string\n"
     ]
    }
   ],
   "source": [
    "print(\" back slash \\\\ in a string\")"
   ]
  },
  {
   "cell_type": "code",
   "execution_count": 7,
   "id": "c59f45d9",
   "metadata": {},
   "outputs": [
    {
     "name": "stdout",
     "output_type": "stream",
     "text": [
      " back slash \\\\ in a string\n"
     ]
    }
   ],
   "source": [
    "print(\" back slash \\\\\\ in a string\")"
   ]
  },
  {
   "cell_type": "markdown",
   "id": "b0606de4",
   "metadata": {},
   "source": [
    "#### 4. The string \"Howl's Moving Castle\" is a correct value. Why isn't the single quote character in the word Howl's not escaped a problem?"
   ]
  },
  {
   "cell_type": "markdown",
   "id": "adedf869",
   "metadata": {},
   "source": [
    "ans:\n",
    "\n",
    "the single quote in howls is fine because, we used double quotes \n",
    "to mark the beginning and end of the string "
   ]
  },
  {
   "cell_type": "markdown",
   "id": "8b755d75",
   "metadata": {},
   "source": [
    "#### 5. How do you write a string of newlines if you don't want to use the n character?"
   ]
  },
  {
   "cell_type": "markdown",
   "id": "b5d71318",
   "metadata": {},
   "source": [
    "ans:\n",
    "\n",
    "Multiple strings we can write a multiline string by using python multiline string"
   ]
  },
  {
   "cell_type": "code",
   "execution_count": 8,
   "id": "a7184bc8",
   "metadata": {},
   "outputs": [],
   "source": [
    "My_string = \"\"\"The python language is one \n",
    "of the most accessible programming \n",
    "languages available because \n",
    "it has simplified syntax \"\"\""
   ]
  },
  {
   "cell_type": "code",
   "execution_count": 9,
   "id": "c730cf11",
   "metadata": {},
   "outputs": [
    {
     "data": {
      "text/plain": [
       "'The python language is one \\nof the most accessible programming \\nlanguages available because \\nit has simplified syntax '"
      ]
     },
     "execution_count": 9,
     "metadata": {},
     "output_type": "execute_result"
    }
   ],
   "source": [
    "My_string"
   ]
  },
  {
   "cell_type": "markdown",
   "id": "bfe8255f",
   "metadata": {},
   "source": [
    "#### 6. What are the values of the given expressions?"
   ]
  },
  {
   "cell_type": "code",
   "execution_count": null,
   "id": "f6e62870",
   "metadata": {},
   "outputs": [],
   "source": [
    "'Hello, world!'[1] \n",
    "'Hello, world!'[0:5]\n",
    "'Hello, world!'[:5]       \n",
    "'Hello, world!'[3:]     "
   ]
  },
  {
   "cell_type": "code",
   "execution_count": 11,
   "id": "310d0eb7",
   "metadata": {},
   "outputs": [
    {
     "data": {
      "text/plain": [
       "'e'"
      ]
     },
     "execution_count": 11,
     "metadata": {},
     "output_type": "execute_result"
    }
   ],
   "source": [
    "'Hello, world!'[1]"
   ]
  },
  {
   "cell_type": "code",
   "execution_count": 12,
   "id": "0417aa6a",
   "metadata": {},
   "outputs": [
    {
     "data": {
      "text/plain": [
       "'Hello'"
      ]
     },
     "execution_count": 12,
     "metadata": {},
     "output_type": "execute_result"
    }
   ],
   "source": [
    "'Hello, world!'[0:5]"
   ]
  },
  {
   "cell_type": "code",
   "execution_count": 17,
   "id": "33e6bf8d",
   "metadata": {},
   "outputs": [
    {
     "data": {
      "text/plain": [
       "'Hello'"
      ]
     },
     "execution_count": 17,
     "metadata": {},
     "output_type": "execute_result"
    }
   ],
   "source": [
    "'Hello, world!'[:5]"
   ]
  },
  {
   "cell_type": "code",
   "execution_count": 18,
   "id": "6562e80a",
   "metadata": {},
   "outputs": [
    {
     "data": {
      "text/plain": [
       "'lo, world!'"
      ]
     },
     "execution_count": 18,
     "metadata": {},
     "output_type": "execute_result"
    }
   ],
   "source": [
    "'Hello, world!'[3:] "
   ]
  },
  {
   "cell_type": "markdown",
   "id": "476e6dc6",
   "metadata": {},
   "source": [
    "#### 7. What are the values of the following expressions?"
   ]
  },
  {
   "cell_type": "code",
   "execution_count": 13,
   "id": "ff73d1c2",
   "metadata": {},
   "outputs": [
    {
     "data": {
      "text/plain": [
       "'HELLO'"
      ]
     },
     "execution_count": 13,
     "metadata": {},
     "output_type": "execute_result"
    }
   ],
   "source": [
    "'Hello'.upper()"
   ]
  },
  {
   "cell_type": "code",
   "execution_count": 14,
   "id": "0e5e5d97",
   "metadata": {},
   "outputs": [
    {
     "data": {
      "text/plain": [
       "True"
      ]
     },
     "execution_count": 14,
     "metadata": {},
     "output_type": "execute_result"
    }
   ],
   "source": [
    "'Hello'.upper().isupper()"
   ]
  },
  {
   "cell_type": "code",
   "execution_count": 15,
   "id": "ab0780ce",
   "metadata": {},
   "outputs": [
    {
     "data": {
      "text/plain": [
       "'hello'"
      ]
     },
     "execution_count": 15,
     "metadata": {},
     "output_type": "execute_result"
    }
   ],
   "source": [
    "'Hello'.upper().lower()"
   ]
  },
  {
   "cell_type": "code",
   "execution_count": null,
   "id": "12e4bf36",
   "metadata": {},
   "outputs": [],
   "source": [
    "ans:\n",
    "\n",
    "'Hello'.upper()           = \"all capital letters\" 'HELLO'\n",
    "'Hello'.upper().isupper() = \"True\"\n",
    "'Hello'.upper().lower()   = \"hello\""
   ]
  },
  {
   "cell_type": "markdown",
   "id": "31b39130",
   "metadata": {},
   "source": [
    "#### 8. What are the values of the following expressions?"
   ]
  },
  {
   "cell_type": "code",
   "execution_count": null,
   "id": "16219f33",
   "metadata": {},
   "outputs": [],
   "source": [
    "\n",
    "'Remember, remember, the fifth of July.'.split()'-'.join('There can only one.'.split())\n",
    "\n",
    "\n",
    "['Remember,', 'remember,', 'the', 'fifth', 'of', 'November.'] 'There-can-be-only-one."
   ]
  },
  {
   "cell_type": "code",
   "execution_count": 28,
   "id": "e1db17d0",
   "metadata": {},
   "outputs": [
    {
     "data": {
      "text/plain": [
       "'There-can-only-one.'"
      ]
     },
     "execution_count": 28,
     "metadata": {},
     "output_type": "execute_result"
    }
   ],
   "source": [
    "'-'.join('There can only one.'.split())"
   ]
  },
  {
   "cell_type": "markdown",
   "id": "a2c34c6e",
   "metadata": {},
   "source": [
    "#### 9. What are the methods for right-justifying, left-justifying, and  centering a string?"
   ]
  },
  {
   "cell_type": "code",
   "execution_count": null,
   "id": "9d630620",
   "metadata": {},
   "outputs": [],
   "source": [
    "ans:\n",
    "\n",
    "The rjust(), ljust(), and center() string methods, respectively"
   ]
  },
  {
   "cell_type": "code",
   "execution_count": 23,
   "id": "dc8ac4ba",
   "metadata": {},
   "outputs": [
    {
     "data": {
      "text/plain": [
       "'left&&&&&&'"
      ]
     },
     "execution_count": 23,
     "metadata": {},
     "output_type": "execute_result"
    }
   ],
   "source": [
    "l =\"left\"       # left justified\n",
    "l.ljust(10,\"&\")"
   ]
  },
  {
   "cell_type": "code",
   "execution_count": 24,
   "id": "038ff17e",
   "metadata": {},
   "outputs": [
    {
     "data": {
      "text/plain": [
       "'*****Right'"
      ]
     },
     "execution_count": 24,
     "metadata": {},
     "output_type": "execute_result"
    }
   ],
   "source": [
    "R =\"Right\"       # Right justified\n",
    "R.rjust(10,\"*\")"
   ]
  },
  {
   "cell_type": "code",
   "execution_count": 27,
   "id": "79c75833",
   "metadata": {},
   "outputs": [
    {
     "data": {
      "text/plain": [
       "'*******center*******'"
      ]
     },
     "execution_count": 27,
     "metadata": {},
     "output_type": "execute_result"
    }
   ],
   "source": [
    "s =\"center\"       # center justified\n",
    "s.center(20,\"*\")"
   ]
  },
  {
   "cell_type": "markdown",
   "id": "d515f37a",
   "metadata": {},
   "source": [
    "#### 10. What is the best way to remove whitespace characters from the start or end?"
   ]
  },
  {
   "cell_type": "markdown",
   "id": "be27b3ba",
   "metadata": {},
   "source": [
    "ans:\n",
    "\n",
    "The lstrip() and rstrip() methods remove whitespace from the left and \n",
    "right ends of a string, respectively."
   ]
  },
  {
   "cell_type": "code",
   "execution_count": 30,
   "id": "17a5b3f6",
   "metadata": {},
   "outputs": [
    {
     "name": "stdout",
     "output_type": "stream",
     "text": [
      "                    hello         \n",
      "hello         \n"
     ]
    }
   ],
   "source": [
    "string = \"                    hello         \"\n",
    "print(string)\n",
    "print(string.lstrip())"
   ]
  },
  {
   "cell_type": "code",
   "execution_count": 31,
   "id": "5b52b3eb",
   "metadata": {},
   "outputs": [
    {
     "name": "stdout",
     "output_type": "stream",
     "text": [
      "                    hello         \n",
      "                    hello\n"
     ]
    }
   ],
   "source": [
    "string = \"                    hello         \"\n",
    "print(string)\n",
    "print(string.rstrip())"
   ]
  },
  {
   "cell_type": "code",
   "execution_count": null,
   "id": "8346faa9",
   "metadata": {},
   "outputs": [],
   "source": []
  }
 ],
 "metadata": {
  "kernelspec": {
   "display_name": "Python 3 (ipykernel)",
   "language": "python",
   "name": "python3"
  },
  "language_info": {
   "codemirror_mode": {
    "name": "ipython",
    "version": 3
   },
   "file_extension": ".py",
   "mimetype": "text/x-python",
   "name": "python",
   "nbconvert_exporter": "python",
   "pygments_lexer": "ipython3",
   "version": "3.9.13"
  }
 },
 "nbformat": 4,
 "nbformat_minor": 5
}
